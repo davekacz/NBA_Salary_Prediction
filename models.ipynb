{
 "cells": [
  {
   "cell_type": "code",
   "execution_count": 2,
   "metadata": {},
   "outputs": [],
   "source": [
    "import pandas as pd\n",
    "import numpy as np\n",
    "\n",
    "import plotly.express as px"
   ]
  },
  {
   "cell_type": "code",
   "execution_count": 19,
   "metadata": {},
   "outputs": [],
   "source": [
    "df = pd.read_csv('data/NBA_Player_Dataset-2013-2021.csv')"
   ]
  },
  {
   "cell_type": "code",
   "execution_count": 175,
   "metadata": {},
   "outputs": [],
   "source": [
    "df = df[~df['Year'].isin([2013, 2014, 2015])]"
   ]
  },
  {
   "cell_type": "code",
   "execution_count": 176,
   "metadata": {},
   "outputs": [
    {
     "data": {
      "text/plain": [
       "Index(['Year', 'FULL NAME', 'TEAM', 'POS', 'AGE', 'GP', 'MPG', 'MIN%', 'USG%',\n",
       "       'FTA', 'FT%', '2PA', '2P%', '3PA', '3P%', 'eFG%', 'TS%', 'PPG', 'RPG',\n",
       "       'TRB%', 'APG', 'AST%', 'SPG', 'BPG', 'VI', 'ORTG', 'DRTG',\n",
       "       'TO_100_Games', 'Salary', 'Cap Maximum', 'Salary%OfCap', 'Traded',\n",
       "       'Center', 'Forward', 'Guard'],\n",
       "      dtype='object')"
      ]
     },
     "execution_count": 176,
     "metadata": {},
     "output_type": "execute_result"
    }
   ],
   "source": [
    "df.columns"
   ]
  },
  {
   "cell_type": "code",
   "execution_count": 177,
   "metadata": {},
   "outputs": [],
   "source": [
    "x_to_scale = df[['Year', 'AGE', 'GP', 'MPG', 'MIN%', 'USG%',\n",
    "       'FTA', 'FT%', '2PA', '2P%', '3PA', '3P%', 'eFG%', 'TS%', 'PPG', 'RPG',\n",
    "       'TRB%', 'APG', 'AST%', 'SPG', 'BPG', 'VI', 'TO_100_Games']]"
   ]
  },
  {
   "cell_type": "code",
   "execution_count": 178,
   "metadata": {},
   "outputs": [],
   "source": [
    "x_to_scale = df[['Year', 'AGE', 'GP', 'MPG', 'PPG', 'RPG',\n",
    "       'APG', 'SPG', 'BPG']]"
   ]
  },
  {
   "cell_type": "code",
   "execution_count": 179,
   "metadata": {},
   "outputs": [],
   "source": [
    "from sklearn.preprocessing import StandardScaler\n",
    "\n",
    "scaler = StandardScaler()\n",
    "scaler.fit(x_to_scale)\n",
    "\n",
    "x_scaled = scaler.transform(x_to_scale)"
   ]
  },
  {
   "cell_type": "code",
   "execution_count": 180,
   "metadata": {},
   "outputs": [],
   "source": [
    "x_scaled_df = pd.DataFrame(x_scaled, columns = x_to_scale.columns)"
   ]
  },
  {
   "cell_type": "code",
   "execution_count": 181,
   "metadata": {},
   "outputs": [
    {
     "data": {
      "text/html": [
       "<div>\n",
       "<style scoped>\n",
       "    .dataframe tbody tr th:only-of-type {\n",
       "        vertical-align: middle;\n",
       "    }\n",
       "\n",
       "    .dataframe tbody tr th {\n",
       "        vertical-align: top;\n",
       "    }\n",
       "\n",
       "    .dataframe thead th {\n",
       "        text-align: right;\n",
       "    }\n",
       "</style>\n",
       "<table border=\"1\" class=\"dataframe\">\n",
       "  <thead>\n",
       "    <tr style=\"text-align: right;\">\n",
       "      <th></th>\n",
       "      <th>Year</th>\n",
       "      <th>AGE</th>\n",
       "      <th>GP</th>\n",
       "      <th>MPG</th>\n",
       "      <th>PPG</th>\n",
       "      <th>RPG</th>\n",
       "      <th>APG</th>\n",
       "      <th>SPG</th>\n",
       "      <th>BPG</th>\n",
       "    </tr>\n",
       "  </thead>\n",
       "  <tbody>\n",
       "    <tr>\n",
       "      <th>0</th>\n",
       "      <td>1.416741</td>\n",
       "      <td>-0.950553</td>\n",
       "      <td>0.500433</td>\n",
       "      <td>0.372099</td>\n",
       "      <td>-0.031143</td>\n",
       "      <td>1.287571</td>\n",
       "      <td>-0.442265</td>\n",
       "      <td>-0.229664</td>\n",
       "      <td>0.333104</td>\n",
       "    </tr>\n",
       "    <tr>\n",
       "      <th>1</th>\n",
       "      <td>1.416741</td>\n",
       "      <td>0.513794</td>\n",
       "      <td>0.787126</td>\n",
       "      <td>0.745341</td>\n",
       "      <td>-0.220451</td>\n",
       "      <td>2.494507</td>\n",
       "      <td>0.774872</td>\n",
       "      <td>0.520014</td>\n",
       "      <td>0.874509</td>\n",
       "    </tr>\n",
       "    <tr>\n",
       "      <th>2</th>\n",
       "      <td>1.416741</td>\n",
       "      <td>-0.433166</td>\n",
       "      <td>-0.072954</td>\n",
       "      <td>1.459831</td>\n",
       "      <td>1.641086</td>\n",
       "      <td>2.735894</td>\n",
       "      <td>0.885521</td>\n",
       "      <td>2.261201</td>\n",
       "      <td>1.046774</td>\n",
       "    </tr>\n",
       "    <tr>\n",
       "      <th>3</th>\n",
       "      <td>1.416741</td>\n",
       "      <td>2.412462</td>\n",
       "      <td>-0.031997</td>\n",
       "      <td>0.350771</td>\n",
       "      <td>0.773420</td>\n",
       "      <td>0.804797</td>\n",
       "      <td>-0.552914</td>\n",
       "      <td>-0.737510</td>\n",
       "      <td>1.538961</td>\n",
       "    </tr>\n",
       "    <tr>\n",
       "      <th>4</th>\n",
       "      <td>1.416741</td>\n",
       "      <td>-0.701352</td>\n",
       "      <td>0.418521</td>\n",
       "      <td>-0.353055</td>\n",
       "      <td>-0.228339</td>\n",
       "      <td>-0.522832</td>\n",
       "      <td>0.000330</td>\n",
       "      <td>-0.495678</td>\n",
       "      <td>-0.294434</td>\n",
       "    </tr>\n",
       "    <tr>\n",
       "      <th>...</th>\n",
       "      <td>...</td>\n",
       "      <td>...</td>\n",
       "      <td>...</td>\n",
       "      <td>...</td>\n",
       "      <td>...</td>\n",
       "      <td>...</td>\n",
       "      <td>...</td>\n",
       "      <td>...</td>\n",
       "      <td>...</td>\n",
       "    </tr>\n",
       "    <tr>\n",
       "      <th>2898</th>\n",
       "      <td>-1.511352</td>\n",
       "      <td>-0.827139</td>\n",
       "      <td>0.008959</td>\n",
       "      <td>0.276123</td>\n",
       "      <td>-0.039030</td>\n",
       "      <td>-0.663641</td>\n",
       "      <td>0.608899</td>\n",
       "      <td>0.096809</td>\n",
       "      <td>-0.491308</td>\n",
       "    </tr>\n",
       "    <tr>\n",
       "      <th>2899</th>\n",
       "      <td>-1.511352</td>\n",
       "      <td>-1.301806</td>\n",
       "      <td>0.049915</td>\n",
       "      <td>1.886393</td>\n",
       "      <td>1.625310</td>\n",
       "      <td>-0.080289</td>\n",
       "      <td>0.608899</td>\n",
       "      <td>0.616747</td>\n",
       "      <td>-0.454394</td>\n",
       "    </tr>\n",
       "    <tr>\n",
       "      <th>2900</th>\n",
       "      <td>-1.511352</td>\n",
       "      <td>2.020862</td>\n",
       "      <td>1.114776</td>\n",
       "      <td>0.532060</td>\n",
       "      <td>0.868075</td>\n",
       "      <td>1.850808</td>\n",
       "      <td>-0.110318</td>\n",
       "      <td>-0.229664</td>\n",
       "      <td>-0.626660</td>\n",
       "    </tr>\n",
       "    <tr>\n",
       "      <th>2901</th>\n",
       "      <td>-1.511352</td>\n",
       "      <td>1.308861</td>\n",
       "      <td>0.991907</td>\n",
       "      <td>-0.150438</td>\n",
       "      <td>-0.393985</td>\n",
       "      <td>0.925490</td>\n",
       "      <td>0.000330</td>\n",
       "      <td>0.544197</td>\n",
       "      <td>0.185448</td>\n",
       "    </tr>\n",
       "    <tr>\n",
       "      <th>2902</th>\n",
       "      <td>-1.511352</td>\n",
       "      <td>-0.589806</td>\n",
       "      <td>-1.793114</td>\n",
       "      <td>0.126827</td>\n",
       "      <td>-0.488639</td>\n",
       "      <td>-1.246993</td>\n",
       "      <td>-1.050833</td>\n",
       "      <td>-0.278030</td>\n",
       "      <td>0.259276</td>\n",
       "    </tr>\n",
       "  </tbody>\n",
       "</table>\n",
       "<p>2903 rows × 9 columns</p>\n",
       "</div>"
      ],
      "text/plain": [
       "          Year       AGE        GP       MPG       PPG       RPG       APG  \\\n",
       "0     1.416741 -0.950553  0.500433  0.372099 -0.031143  1.287571 -0.442265   \n",
       "1     1.416741  0.513794  0.787126  0.745341 -0.220451  2.494507  0.774872   \n",
       "2     1.416741 -0.433166 -0.072954  1.459831  1.641086  2.735894  0.885521   \n",
       "3     1.416741  2.412462 -0.031997  0.350771  0.773420  0.804797 -0.552914   \n",
       "4     1.416741 -0.701352  0.418521 -0.353055 -0.228339 -0.522832  0.000330   \n",
       "...        ...       ...       ...       ...       ...       ...       ...   \n",
       "2898 -1.511352 -0.827139  0.008959  0.276123 -0.039030 -0.663641  0.608899   \n",
       "2899 -1.511352 -1.301806  0.049915  1.886393  1.625310 -0.080289  0.608899   \n",
       "2900 -1.511352  2.020862  1.114776  0.532060  0.868075  1.850808 -0.110318   \n",
       "2901 -1.511352  1.308861  0.991907 -0.150438 -0.393985  0.925490  0.000330   \n",
       "2902 -1.511352 -0.589806 -1.793114  0.126827 -0.488639 -1.246993 -1.050833   \n",
       "\n",
       "           SPG       BPG  \n",
       "0    -0.229664  0.333104  \n",
       "1     0.520014  0.874509  \n",
       "2     2.261201  1.046774  \n",
       "3    -0.737510  1.538961  \n",
       "4    -0.495678 -0.294434  \n",
       "...        ...       ...  \n",
       "2898  0.096809 -0.491308  \n",
       "2899  0.616747 -0.454394  \n",
       "2900 -0.229664 -0.626660  \n",
       "2901  0.544197  0.185448  \n",
       "2902 -0.278030  0.259276  \n",
       "\n",
       "[2903 rows x 9 columns]"
      ]
     },
     "execution_count": 181,
     "metadata": {},
     "output_type": "execute_result"
    }
   ],
   "source": [
    "x_scaled_df"
   ]
  },
  {
   "cell_type": "code",
   "execution_count": 182,
   "metadata": {},
   "outputs": [],
   "source": [
    "X = pd.concat([x_scaled_df, df[['Center', 'Forward', 'Guard']]], axis = 1)\n",
    "y = df['Salary']"
   ]
  },
  {
   "cell_type": "code",
   "execution_count": 184,
   "metadata": {},
   "outputs": [],
   "source": [
    "from sklearn.model_selection import train_test_split\n",
    "X_train, X_test, y_train, y_test = train_test_split(X, y, test_size=0.25, random_state=18)"
   ]
  },
  {
   "cell_type": "code",
   "execution_count": 185,
   "metadata": {},
   "outputs": [],
   "source": [
    "from sklearn.ensemble import RandomForestRegressor\n",
    "regr = RandomForestRegressor(random_state=46)\n",
    "\n",
    "regr.fit(X_train, y_train)\n",
    "\n",
    "y_pred = regr.predict(X_test)"
   ]
  },
  {
   "cell_type": "code",
   "execution_count": 186,
   "metadata": {},
   "outputs": [
    {
     "name": "stdout",
     "output_type": "stream",
     "text": [
      "MSE [2.17682048e+13]\n",
      "MAE 3042986.9583333335\n",
      "MAPE 2.7768948060930496\n"
     ]
    }
   ],
   "source": [
    "from sklearn.metrics import mean_squared_error, mean_absolute_error, mean_absolute_percentage_error\n",
    "\n",
    "mse = mean_squared_error(y_test, y_pred, multioutput='raw_values')\n",
    "mae = mean_absolute_error(y_test, y_pred)\n",
    "mape = mean_absolute_percentage_error(y_test, y_pred)\n",
    "\n",
    "print('MSE', mse)\n",
    "print('MAE', mae)\n",
    "print('MAPE', mape)"
   ]
  },
  {
   "cell_type": "code",
   "execution_count": 187,
   "metadata": {},
   "outputs": [
    {
     "data": {
      "text/html": [
       "<div>\n",
       "<style scoped>\n",
       "    .dataframe tbody tr th:only-of-type {\n",
       "        vertical-align: middle;\n",
       "    }\n",
       "\n",
       "    .dataframe tbody tr th {\n",
       "        vertical-align: top;\n",
       "    }\n",
       "\n",
       "    .dataframe thead th {\n",
       "        text-align: right;\n",
       "    }\n",
       "</style>\n",
       "<table border=\"1\" class=\"dataframe\">\n",
       "  <thead>\n",
       "    <tr style=\"text-align: right;\">\n",
       "      <th></th>\n",
       "      <th>Y True</th>\n",
       "      <th>Y Tree Pred</th>\n",
       "      <th>Difference</th>\n",
       "    </tr>\n",
       "  </thead>\n",
       "  <tbody>\n",
       "    <tr>\n",
       "      <th>0</th>\n",
       "      <td>5195501.0</td>\n",
       "      <td>27647871.21</td>\n",
       "      <td>22452370.21</td>\n",
       "    </tr>\n",
       "    <tr>\n",
       "      <th>1</th>\n",
       "      <td>2036280.0</td>\n",
       "      <td>2985280.03</td>\n",
       "      <td>949000.03</td>\n",
       "    </tr>\n",
       "    <tr>\n",
       "      <th>2</th>\n",
       "      <td>2159029.0</td>\n",
       "      <td>22950936.39</td>\n",
       "      <td>20791907.39</td>\n",
       "    </tr>\n",
       "    <tr>\n",
       "      <th>3</th>\n",
       "      <td>8000000.0</td>\n",
       "      <td>9762810.09</td>\n",
       "      <td>1762810.09</td>\n",
       "    </tr>\n",
       "    <tr>\n",
       "      <th>4</th>\n",
       "      <td>2299080.0</td>\n",
       "      <td>6866305.86</td>\n",
       "      <td>4567225.86</td>\n",
       "    </tr>\n",
       "    <tr>\n",
       "      <th>...</th>\n",
       "      <td>...</td>\n",
       "      <td>...</td>\n",
       "      <td>...</td>\n",
       "    </tr>\n",
       "    <tr>\n",
       "      <th>721</th>\n",
       "      <td>1015695.0</td>\n",
       "      <td>4141835.74</td>\n",
       "      <td>3126140.74</td>\n",
       "    </tr>\n",
       "    <tr>\n",
       "      <th>722</th>\n",
       "      <td>1471382.0</td>\n",
       "      <td>6819531.91</td>\n",
       "      <td>5348149.91</td>\n",
       "    </tr>\n",
       "    <tr>\n",
       "      <th>723</th>\n",
       "      <td>2412840.0</td>\n",
       "      <td>2323592.46</td>\n",
       "      <td>89247.54</td>\n",
       "    </tr>\n",
       "    <tr>\n",
       "      <th>724</th>\n",
       "      <td>1663861.0</td>\n",
       "      <td>1944771.17</td>\n",
       "      <td>280910.17</td>\n",
       "    </tr>\n",
       "    <tr>\n",
       "      <th>725</th>\n",
       "      <td>842327.0</td>\n",
       "      <td>9579480.45</td>\n",
       "      <td>8737153.45</td>\n",
       "    </tr>\n",
       "  </tbody>\n",
       "</table>\n",
       "<p>726 rows × 3 columns</p>\n",
       "</div>"
      ],
      "text/plain": [
       "        Y True  Y Tree Pred   Difference\n",
       "0    5195501.0  27647871.21  22452370.21\n",
       "1    2036280.0   2985280.03    949000.03\n",
       "2    2159029.0  22950936.39  20791907.39\n",
       "3    8000000.0   9762810.09   1762810.09\n",
       "4    2299080.0   6866305.86   4567225.86\n",
       "..         ...          ...          ...\n",
       "721  1015695.0   4141835.74   3126140.74\n",
       "722  1471382.0   6819531.91   5348149.91\n",
       "723  2412840.0   2323592.46     89247.54\n",
       "724  1663861.0   1944771.17    280910.17\n",
       "725   842327.0   9579480.45   8737153.45\n",
       "\n",
       "[726 rows x 3 columns]"
      ]
     },
     "execution_count": 187,
     "metadata": {},
     "output_type": "execute_result"
    }
   ],
   "source": [
    "results = pd.DataFrame(zip(*[y_test,y_pred]), columns = ['Y True', 'Y Tree Pred'])\n",
    "results['Difference'] = abs(results['Y True'] - results['Y Tree Pred'])\n",
    "results"
   ]
  },
  {
   "cell_type": "markdown",
   "metadata": {},
   "source": [
    "# Adaboost"
   ]
  },
  {
   "cell_type": "code",
   "execution_count": 188,
   "metadata": {},
   "outputs": [],
   "source": [
    "from sklearn.ensemble import AdaBoostRegressor\n",
    "\n",
    "regr = AdaBoostRegressor(random_state=7, n_estimators=10)\n",
    "\n",
    "regr.fit(X_train, y_train)\n",
    "\n",
    "y_pred = regr.predict(X_test)"
   ]
  },
  {
   "cell_type": "code",
   "execution_count": 189,
   "metadata": {},
   "outputs": [
    {
     "name": "stdout",
     "output_type": "stream",
     "text": [
      "MSE [2.7756361e+13]\n",
      "MAE 3995238.0297388467\n",
      "MAPE 5.449896538121396\n"
     ]
    }
   ],
   "source": [
    "from sklearn.metrics import mean_squared_error, mean_absolute_error, mean_absolute_percentage_error\n",
    "\n",
    "mse = mean_squared_error(y_test, y_pred, multioutput='raw_values')\n",
    "mae = mean_absolute_error(y_test, y_pred)\n",
    "mape = mean_absolute_percentage_error(y_test, y_pred)\n",
    "\n",
    "print('MSE', mse)\n",
    "print('MAE', mae)\n",
    "print('MAPE', mape)"
   ]
  },
  {
   "cell_type": "markdown",
   "metadata": {},
   "source": [
    "# Linear Regression"
   ]
  },
  {
   "cell_type": "code",
   "execution_count": 190,
   "metadata": {},
   "outputs": [],
   "source": [
    "from sklearn.linear_model import LinearRegression\n",
    "\n",
    "reg = LinearRegression().fit(X_train, y_train)\n",
    "\n",
    "y_pred = reg.predict(X_test)"
   ]
  },
  {
   "cell_type": "code",
   "execution_count": 191,
   "metadata": {},
   "outputs": [
    {
     "name": "stdout",
     "output_type": "stream",
     "text": [
      "MSE [2.9692816e+13]\n",
      "MAE 4029608.7170335124\n",
      "MAPE 4.3980597004847555\n"
     ]
    }
   ],
   "source": [
    "from sklearn.metrics import mean_squared_error, mean_absolute_error, mean_absolute_percentage_error\n",
    "\n",
    "mse = mean_squared_error(y_test, y_pred, multioutput='raw_values')\n",
    "mae = mean_absolute_error(y_test, y_pred)\n",
    "mape = mean_absolute_percentage_error(y_test, y_pred)\n",
    "\n",
    "print('MSE', mse)\n",
    "print('MAE', mae)\n",
    "print('MAPE', mape)"
   ]
  },
  {
   "cell_type": "markdown",
   "metadata": {},
   "source": [
    "# KNN"
   ]
  },
  {
   "cell_type": "code",
   "execution_count": 194,
   "metadata": {},
   "outputs": [],
   "source": [
    "from sklearn.neighbors import KNeighborsRegressor\n",
    "\n",
    "neigh = KNeighborsRegressor(n_neighbors=5)\n",
    "\n",
    "neigh.fit(X_train, y_train)\n",
    "\n",
    "y_pred = neigh.predict(X_test)"
   ]
  },
  {
   "cell_type": "code",
   "execution_count": 195,
   "metadata": {},
   "outputs": [
    {
     "name": "stdout",
     "output_type": "stream",
     "text": [
      "MSE [2.35549529e+13]\n",
      "MAE 3233834.6231404953\n",
      "MAPE 2.4311523210793218\n"
     ]
    }
   ],
   "source": [
    "from sklearn.metrics import mean_squared_error, mean_absolute_error, mean_absolute_percentage_error\n",
    "\n",
    "mse = mean_squared_error(y_test, y_pred, multioutput='raw_values')\n",
    "mae = mean_absolute_error(y_test, y_pred)\n",
    "mape = mean_absolute_percentage_error(y_test, y_pred)\n",
    "\n",
    "print('MSE', mse)\n",
    "print('MAE', mae)\n",
    "print('MAPE', mape)"
   ]
  },
  {
   "cell_type": "code",
   "execution_count": null,
   "metadata": {},
   "outputs": [],
   "source": []
  }
 ],
 "metadata": {
  "interpreter": {
   "hash": "7db072334cd235532efed8ba6391072d8ff0e81ff473316a8174440cce5fe44b"
  },
  "kernelspec": {
   "display_name": "Python 3.8.12 ('DMSL')",
   "language": "python",
   "name": "python3"
  },
  "language_info": {
   "codemirror_mode": {
    "name": "ipython",
    "version": 3
   },
   "file_extension": ".py",
   "mimetype": "text/x-python",
   "name": "python",
   "nbconvert_exporter": "python",
   "pygments_lexer": "ipython3",
   "version": "3.8.12"
  },
  "orig_nbformat": 4
 },
 "nbformat": 4,
 "nbformat_minor": 2
}
