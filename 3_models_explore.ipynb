{
 "cells": [
  {
   "cell_type": "code",
   "execution_count": 1,
   "metadata": {},
   "outputs": [],
   "source": [
    "import pandas as pd\n",
    "import numpy as np\n",
    "\n",
    "import plotly.express as px\n",
    "from scipy.special import inv_boxcox"
   ]
  },
  {
   "cell_type": "code",
   "execution_count": 2,
   "metadata": {},
   "outputs": [],
   "source": [
    "df = pd.read_csv('data/NBA_Player_Dataset-2013-2021.csv')\n",
    "\n",
    "box_cox_transformer = 0.16106145323461019 #need to pull from data_prep.ipynb"
   ]
  },
  {
   "cell_type": "code",
   "execution_count": 3,
   "metadata": {},
   "outputs": [],
   "source": [
    "#Can be used to filter out earlier years\n",
    "#df = df[~df['Year'].isin([2013, 2014, 2015])]"
   ]
  },
  {
   "cell_type": "code",
   "execution_count": 4,
   "metadata": {},
   "outputs": [
    {
     "data": {
      "text/plain": [
       "Index(['Year', 'FULL NAME', 'TEAM', 'POS', 'AGE', 'GP', 'MPG', 'MIN%', 'USG%',\n",
       "       'FTA', 'FT%', '2PA', '2P%', '3PA', '3P%', 'eFG%', 'TS%', 'PPG', 'RPG',\n",
       "       'TRB%', 'APG', 'AST%', 'SPG', 'BPG', 'VI', 'ORTG', 'DRTG',\n",
       "       'TO_100_Games', 'Salary', 'Cap Maximum', 'Salary%OfCap', 'Traded',\n",
       "       'Center', 'Forward', 'Guard', 'Salary_Scaled', 'Salary_BoxCox',\n",
       "       'Salary_Scaled_BoxCox'],\n",
       "      dtype='object')"
      ]
     },
     "execution_count": 4,
     "metadata": {},
     "output_type": "execute_result"
    }
   ],
   "source": [
    "df.columns"
   ]
  },
  {
   "cell_type": "code",
   "execution_count": 5,
   "metadata": {},
   "outputs": [],
   "source": [
    "#variables we need to scale\n",
    "\n",
    "x_to_scale = df[['Year', 'AGE', 'GP', 'MPG', 'MIN%', 'USG%',\n",
    "       'FTA', 'FT%', '2PA', '2P%', '3PA', '3P%', 'eFG%', 'TS%', 'PPG', 'RPG',\n",
    "       'TRB%', 'APG', 'AST%', 'SPG', 'BPG', 'VI', 'TO_100_Games']]"
   ]
  },
  {
   "cell_type": "code",
   "execution_count": 6,
   "metadata": {},
   "outputs": [
    {
     "data": {
      "text/plain": [
       "\"x_to_scale = df[['Year', 'AGE', 'GP', 'MPG', 'PPG', 'RPG',\\n       'APG', 'SPG', 'BPG']]\""
      ]
     },
     "execution_count": 6,
     "metadata": {},
     "output_type": "execute_result"
    }
   ],
   "source": [
    "'''x_to_scale = df[['Year', 'AGE', 'GP', 'MPG', 'PPG', 'RPG',\n",
    "       'APG', 'SPG', 'BPG']]'''"
   ]
  },
  {
   "cell_type": "code",
   "execution_count": 7,
   "metadata": {},
   "outputs": [],
   "source": [
    "#scaler function\n",
    "from sklearn.preprocessing import StandardScaler\n",
    "\n",
    "scaler = StandardScaler()\n",
    "scaler.fit(x_to_scale)\n",
    "\n",
    "x_scaled = scaler.transform(x_to_scale)\n",
    "\n",
    "x_scaled_df = pd.DataFrame(x_scaled, columns = x_to_scale.columns)"
   ]
  },
  {
   "cell_type": "code",
   "execution_count": 8,
   "metadata": {},
   "outputs": [
    {
     "data": {
      "text/html": [
       "<div>\n",
       "<style scoped>\n",
       "    .dataframe tbody tr th:only-of-type {\n",
       "        vertical-align: middle;\n",
       "    }\n",
       "\n",
       "    .dataframe tbody tr th {\n",
       "        vertical-align: top;\n",
       "    }\n",
       "\n",
       "    .dataframe thead th {\n",
       "        text-align: right;\n",
       "    }\n",
       "</style>\n",
       "<table border=\"1\" class=\"dataframe\">\n",
       "  <thead>\n",
       "    <tr style=\"text-align: right;\">\n",
       "      <th></th>\n",
       "      <th>Year</th>\n",
       "      <th>AGE</th>\n",
       "      <th>GP</th>\n",
       "      <th>MPG</th>\n",
       "      <th>MIN%</th>\n",
       "      <th>USG%</th>\n",
       "      <th>FTA</th>\n",
       "      <th>FT%</th>\n",
       "      <th>2PA</th>\n",
       "      <th>2P%</th>\n",
       "      <th>...</th>\n",
       "      <th>TS%</th>\n",
       "      <th>PPG</th>\n",
       "      <th>RPG</th>\n",
       "      <th>TRB%</th>\n",
       "      <th>APG</th>\n",
       "      <th>AST%</th>\n",
       "      <th>SPG</th>\n",
       "      <th>BPG</th>\n",
       "      <th>VI</th>\n",
       "      <th>TO_100_Games</th>\n",
       "    </tr>\n",
       "  </thead>\n",
       "  <tbody>\n",
       "    <tr>\n",
       "      <th>0</th>\n",
       "      <td>-0.448291</td>\n",
       "      <td>1.054938</td>\n",
       "      <td>0.482581</td>\n",
       "      <td>1.246624</td>\n",
       "      <td>1.249235</td>\n",
       "      <td>1.006838</td>\n",
       "      <td>1.273851</td>\n",
       "      <td>0.917979</td>\n",
       "      <td>0.808159</td>\n",
       "      <td>0.245669</td>\n",
       "      <td>...</td>\n",
       "      <td>0.789723</td>\n",
       "      <td>1.547901</td>\n",
       "      <td>0.546992</td>\n",
       "      <td>-0.257996</td>\n",
       "      <td>4.043414</td>\n",
       "      <td>3.665499</td>\n",
       "      <td>3.171747</td>\n",
       "      <td>-0.651949</td>\n",
       "      <td>2.259476</td>\n",
       "      <td>0.178108</td>\n",
       "    </tr>\n",
       "    <tr>\n",
       "      <th>1</th>\n",
       "      <td>0.324087</td>\n",
       "      <td>-0.783816</td>\n",
       "      <td>-1.268083</td>\n",
       "      <td>-0.180363</td>\n",
       "      <td>-0.172433</td>\n",
       "      <td>0.394914</td>\n",
       "      <td>-0.644776</td>\n",
       "      <td>0.148347</td>\n",
       "      <td>-0.722653</td>\n",
       "      <td>-0.567050</td>\n",
       "      <td>...</td>\n",
       "      <td>-0.274237</td>\n",
       "      <td>-0.179525</td>\n",
       "      <td>-0.789344</td>\n",
       "      <td>-0.935353</td>\n",
       "      <td>-0.554199</td>\n",
       "      <td>-0.596403</td>\n",
       "      <td>-0.175151</td>\n",
       "      <td>-0.436866</td>\n",
       "      <td>-0.732954</td>\n",
       "      <td>-0.095976</td>\n",
       "    </tr>\n",
       "    <tr>\n",
       "      <th>2</th>\n",
       "      <td>-1.606858</td>\n",
       "      <td>0.345907</td>\n",
       "      <td>0.930425</td>\n",
       "      <td>0.316920</td>\n",
       "      <td>0.299727</td>\n",
       "      <td>0.272529</td>\n",
       "      <td>0.214435</td>\n",
       "      <td>1.150321</td>\n",
       "      <td>0.498943</td>\n",
       "      <td>-0.306664</td>\n",
       "      <td>...</td>\n",
       "      <td>0.012569</td>\n",
       "      <td>0.130108</td>\n",
       "      <td>-0.708354</td>\n",
       "      <td>-1.032118</td>\n",
       "      <td>0.775231</td>\n",
       "      <td>1.023554</td>\n",
       "      <td>-0.080204</td>\n",
       "      <td>-0.723643</td>\n",
       "      <td>0.079277</td>\n",
       "      <td>0.016882</td>\n",
       "    </tr>\n",
       "    <tr>\n",
       "      <th>3</th>\n",
       "      <td>1.482654</td>\n",
       "      <td>-1.067428</td>\n",
       "      <td>-0.168829</td>\n",
       "      <td>-0.104690</td>\n",
       "      <td>-0.104981</td>\n",
       "      <td>0.202595</td>\n",
       "      <td>-0.160948</td>\n",
       "      <td>0.276619</td>\n",
       "      <td>-0.337087</td>\n",
       "      <td>1.022880</td>\n",
       "      <td>...</td>\n",
       "      <td>0.729586</td>\n",
       "      <td>0.178997</td>\n",
       "      <td>1.134170</td>\n",
       "      <td>1.677307</td>\n",
       "      <td>-0.720378</td>\n",
       "      <td>-0.966058</td>\n",
       "      <td>-0.804178</td>\n",
       "      <td>0.901426</td>\n",
       "      <td>-0.027596</td>\n",
       "      <td>-0.418428</td>\n",
       "    </tr>\n",
       "    <tr>\n",
       "      <th>4</th>\n",
       "      <td>0.710276</td>\n",
       "      <td>-0.367851</td>\n",
       "      <td>-0.535247</td>\n",
       "      <td>-1.277630</td>\n",
       "      <td>-1.272409</td>\n",
       "      <td>-0.828935</td>\n",
       "      <td>-0.628092</td>\n",
       "      <td>-0.202586</td>\n",
       "      <td>-0.741740</td>\n",
       "      <td>1.780366</td>\n",
       "      <td>...</td>\n",
       "      <td>1.784295</td>\n",
       "      <td>-0.912867</td>\n",
       "      <td>-0.445136</td>\n",
       "      <td>1.174128</td>\n",
       "      <td>-0.720378</td>\n",
       "      <td>-0.324598</td>\n",
       "      <td>-1.053415</td>\n",
       "      <td>-0.711694</td>\n",
       "      <td>0.635014</td>\n",
       "      <td>0.823012</td>\n",
       "    </tr>\n",
       "    <tr>\n",
       "      <th>...</th>\n",
       "      <td>...</td>\n",
       "      <td>...</td>\n",
       "      <td>...</td>\n",
       "      <td>...</td>\n",
       "      <td>...</td>\n",
       "      <td>...</td>\n",
       "      <td>...</td>\n",
       "      <td>...</td>\n",
       "      <td>...</td>\n",
       "      <td>...</td>\n",
       "      <td>...</td>\n",
       "      <td>...</td>\n",
       "      <td>...</td>\n",
       "      <td>...</td>\n",
       "      <td>...</td>\n",
       "      <td>...</td>\n",
       "      <td>...</td>\n",
       "      <td>...</td>\n",
       "      <td>...</td>\n",
       "      <td>...</td>\n",
       "      <td>...</td>\n",
       "    </tr>\n",
       "    <tr>\n",
       "      <th>4205</th>\n",
       "      <td>-0.448291</td>\n",
       "      <td>-0.363124</td>\n",
       "      <td>1.011851</td>\n",
       "      <td>1.452024</td>\n",
       "      <td>1.461966</td>\n",
       "      <td>2.178236</td>\n",
       "      <td>3.551179</td>\n",
       "      <td>0.859894</td>\n",
       "      <td>2.495487</td>\n",
       "      <td>0.332464</td>\n",
       "      <td>...</td>\n",
       "      <td>0.752716</td>\n",
       "      <td>2.753840</td>\n",
       "      <td>0.870952</td>\n",
       "      <td>-0.064466</td>\n",
       "      <td>0.886017</td>\n",
       "      <td>0.632155</td>\n",
       "      <td>2.768220</td>\n",
       "      <td>0.805834</td>\n",
       "      <td>1.276249</td>\n",
       "      <td>-0.611899</td>\n",
       "    </tr>\n",
       "    <tr>\n",
       "      <th>4206</th>\n",
       "      <td>-0.062102</td>\n",
       "      <td>-0.363124</td>\n",
       "      <td>-1.064517</td>\n",
       "      <td>-1.115473</td>\n",
       "      <td>-1.111563</td>\n",
       "      <td>-0.339395</td>\n",
       "      <td>-0.819955</td>\n",
       "      <td>-1.381236</td>\n",
       "      <td>-0.848630</td>\n",
       "      <td>0.056297</td>\n",
       "      <td>...</td>\n",
       "      <td>-0.801592</td>\n",
       "      <td>-0.912867</td>\n",
       "      <td>-0.688106</td>\n",
       "      <td>0.158094</td>\n",
       "      <td>-0.526503</td>\n",
       "      <td>0.061365</td>\n",
       "      <td>-0.780441</td>\n",
       "      <td>-0.651949</td>\n",
       "      <td>0.271647</td>\n",
       "      <td>-0.757002</td>\n",
       "    </tr>\n",
       "    <tr>\n",
       "      <th>4207</th>\n",
       "      <td>1.482654</td>\n",
       "      <td>-1.213961</td>\n",
       "      <td>-1.064517</td>\n",
       "      <td>-1.369520</td>\n",
       "      <td>-1.365803</td>\n",
       "      <td>-0.426813</td>\n",
       "      <td>-0.794930</td>\n",
       "      <td>0.230635</td>\n",
       "      <td>-0.871534</td>\n",
       "      <td>1.665954</td>\n",
       "      <td>...</td>\n",
       "      <td>1.215308</td>\n",
       "      <td>-0.912867</td>\n",
       "      <td>-0.384393</td>\n",
       "      <td>2.006309</td>\n",
       "      <td>-0.886557</td>\n",
       "      <td>-0.694253</td>\n",
       "      <td>-0.982204</td>\n",
       "      <td>0.805834</td>\n",
       "      <td>0.335771</td>\n",
       "      <td>0.065250</td>\n",
       "    </tr>\n",
       "    <tr>\n",
       "      <th>4208</th>\n",
       "      <td>-1.220669</td>\n",
       "      <td>0.109564</td>\n",
       "      <td>0.441868</td>\n",
       "      <td>0.479078</td>\n",
       "      <td>0.481327</td>\n",
       "      <td>0.290013</td>\n",
       "      <td>0.439666</td>\n",
       "      <td>0.985746</td>\n",
       "      <td>0.193544</td>\n",
       "      <td>-0.211979</td>\n",
       "      <td>...</td>\n",
       "      <td>0.179102</td>\n",
       "      <td>0.407148</td>\n",
       "      <td>-0.789344</td>\n",
       "      <td>-1.206295</td>\n",
       "      <td>-0.332627</td>\n",
       "      <td>-0.465937</td>\n",
       "      <td>0.821797</td>\n",
       "      <td>-0.723643</td>\n",
       "      <td>-0.775703</td>\n",
       "      <td>-0.692512</td>\n",
       "    </tr>\n",
       "    <tr>\n",
       "      <th>4209</th>\n",
       "      <td>-1.220669</td>\n",
       "      <td>-0.599468</td>\n",
       "      <td>1.093278</td>\n",
       "      <td>1.560129</td>\n",
       "      <td>1.570926</td>\n",
       "      <td>1.408960</td>\n",
       "      <td>2.958907</td>\n",
       "      <td>0.530743</td>\n",
       "      <td>1.854150</td>\n",
       "      <td>-0.046279</td>\n",
       "      <td>...</td>\n",
       "      <td>0.354887</td>\n",
       "      <td>1.743459</td>\n",
       "      <td>0.506497</td>\n",
       "      <td>-0.374115</td>\n",
       "      <td>1.218375</td>\n",
       "      <td>0.947449</td>\n",
       "      <td>1.866219</td>\n",
       "      <td>-0.030599</td>\n",
       "      <td>0.806010</td>\n",
       "      <td>0.145863</td>\n",
       "    </tr>\n",
       "  </tbody>\n",
       "</table>\n",
       "<p>4210 rows × 23 columns</p>\n",
       "</div>"
      ],
      "text/plain": [
       "          Year       AGE        GP       MPG      MIN%      USG%       FTA  \\\n",
       "0    -0.448291  1.054938  0.482581  1.246624  1.249235  1.006838  1.273851   \n",
       "1     0.324087 -0.783816 -1.268083 -0.180363 -0.172433  0.394914 -0.644776   \n",
       "2    -1.606858  0.345907  0.930425  0.316920  0.299727  0.272529  0.214435   \n",
       "3     1.482654 -1.067428 -0.168829 -0.104690 -0.104981  0.202595 -0.160948   \n",
       "4     0.710276 -0.367851 -0.535247 -1.277630 -1.272409 -0.828935 -0.628092   \n",
       "...        ...       ...       ...       ...       ...       ...       ...   \n",
       "4205 -0.448291 -0.363124  1.011851  1.452024  1.461966  2.178236  3.551179   \n",
       "4206 -0.062102 -0.363124 -1.064517 -1.115473 -1.111563 -0.339395 -0.819955   \n",
       "4207  1.482654 -1.213961 -1.064517 -1.369520 -1.365803 -0.426813 -0.794930   \n",
       "4208 -1.220669  0.109564  0.441868  0.479078  0.481327  0.290013  0.439666   \n",
       "4209 -1.220669 -0.599468  1.093278  1.560129  1.570926  1.408960  2.958907   \n",
       "\n",
       "           FT%       2PA       2P%  ...       TS%       PPG       RPG  \\\n",
       "0     0.917979  0.808159  0.245669  ...  0.789723  1.547901  0.546992   \n",
       "1     0.148347 -0.722653 -0.567050  ... -0.274237 -0.179525 -0.789344   \n",
       "2     1.150321  0.498943 -0.306664  ...  0.012569  0.130108 -0.708354   \n",
       "3     0.276619 -0.337087  1.022880  ...  0.729586  0.178997  1.134170   \n",
       "4    -0.202586 -0.741740  1.780366  ...  1.784295 -0.912867 -0.445136   \n",
       "...        ...       ...       ...  ...       ...       ...       ...   \n",
       "4205  0.859894  2.495487  0.332464  ...  0.752716  2.753840  0.870952   \n",
       "4206 -1.381236 -0.848630  0.056297  ... -0.801592 -0.912867 -0.688106   \n",
       "4207  0.230635 -0.871534  1.665954  ...  1.215308 -0.912867 -0.384393   \n",
       "4208  0.985746  0.193544 -0.211979  ...  0.179102  0.407148 -0.789344   \n",
       "4209  0.530743  1.854150 -0.046279  ...  0.354887  1.743459  0.506497   \n",
       "\n",
       "          TRB%       APG      AST%       SPG       BPG        VI  TO_100_Games  \n",
       "0    -0.257996  4.043414  3.665499  3.171747 -0.651949  2.259476      0.178108  \n",
       "1    -0.935353 -0.554199 -0.596403 -0.175151 -0.436866 -0.732954     -0.095976  \n",
       "2    -1.032118  0.775231  1.023554 -0.080204 -0.723643  0.079277      0.016882  \n",
       "3     1.677307 -0.720378 -0.966058 -0.804178  0.901426 -0.027596     -0.418428  \n",
       "4     1.174128 -0.720378 -0.324598 -1.053415 -0.711694  0.635014      0.823012  \n",
       "...        ...       ...       ...       ...       ...       ...           ...  \n",
       "4205 -0.064466  0.886017  0.632155  2.768220  0.805834  1.276249     -0.611899  \n",
       "4206  0.158094 -0.526503  0.061365 -0.780441 -0.651949  0.271647     -0.757002  \n",
       "4207  2.006309 -0.886557 -0.694253 -0.982204  0.805834  0.335771      0.065250  \n",
       "4208 -1.206295 -0.332627 -0.465937  0.821797 -0.723643 -0.775703     -0.692512  \n",
       "4209 -0.374115  1.218375  0.947449  1.866219 -0.030599  0.806010      0.145863  \n",
       "\n",
       "[4210 rows x 23 columns]"
      ]
     },
     "execution_count": 8,
     "metadata": {},
     "output_type": "execute_result"
    }
   ],
   "source": [
    "x_scaled_df"
   ]
  },
  {
   "cell_type": "code",
   "execution_count": 22,
   "metadata": {},
   "outputs": [],
   "source": [
    "#add the categorical features to scaled features for input\n",
    "X = pd.concat([x_scaled_df, df[['Center', 'Forward', 'Guard']]], axis = 1)\n",
    "\n",
    "#choose our target variable\n",
    "#y = df['Salary']\n",
    "#y = df['Salary_BoxCox']\n",
    "y = df['Salary_Scaled_BoxCox']"
   ]
  },
  {
   "cell_type": "markdown",
   "metadata": {},
   "source": [
    "# Feature Selection\n",
    "SelectKBest\n",
    "https://scikit-learn.org/stable/modules/generated/sklearn.feature_selection.SelectKBest.html\n",
    "\n",
    "### Scorers for regression\n",
    "https://scikit-learn.org/stable/modules/generated/sklearn.feature_selection.f_regression.html#sklearn.feature_selection.f_regression\n",
    "https://scikit-learn.org/stable/modules/generated/sklearn.feature_selection.mutual_info_classif.html#sklearn.feature_selection.mutual_info_classif"
   ]
  },
  {
   "cell_type": "code",
   "execution_count": 23,
   "metadata": {},
   "outputs": [],
   "source": [
    "#Need to do"
   ]
  },
  {
   "cell_type": "markdown",
   "metadata": {},
   "source": [
    "# Simple single train/test split for testing models"
   ]
  },
  {
   "cell_type": "code",
   "execution_count": 24,
   "metadata": {},
   "outputs": [],
   "source": [
    "from sklearn.model_selection import train_test_split\n",
    "X_train, X_test, y_train, y_test = train_test_split(X, y, test_size=0.2, random_state=8)\n",
    "\n",
    "y_test_salary = inv_boxcox(y_test, box_cox_transformer)"
   ]
  },
  {
   "cell_type": "markdown",
   "metadata": {},
   "source": [
    "# Random Forest"
   ]
  },
  {
   "cell_type": "code",
   "execution_count": 25,
   "metadata": {},
   "outputs": [],
   "source": [
    "from sklearn.ensemble import RandomForestRegressor\n",
    "regr = RandomForestRegressor(random_state=46)\n",
    "\n",
    "regr.fit(X_train, y_train)\n",
    "\n",
    "y_pred = regr.predict(X_test)"
   ]
  },
  {
   "cell_type": "code",
   "execution_count": 26,
   "metadata": {},
   "outputs": [
    {
     "name": "stdout",
     "output_type": "stream",
     "text": [
      "MSE [6.62957379e+14]\n",
      "MAE 15303999.328406708\n",
      "MAPE 1.3104594754102468\n"
     ]
    }
   ],
   "source": [
    "from sklearn.metrics import mean_squared_error, mean_absolute_error, mean_absolute_percentage_error\n",
    "\n",
    "y_pred_salary = inv_boxcox(y_pred, box_cox_transformer)\n",
    "\n",
    "mse = mean_squared_error(y_test_salary, y_pred_salary, multioutput='raw_values')\n",
    "mae = mean_absolute_error(y_test_salary, y_pred_salary)\n",
    "mape = mean_absolute_percentage_error(y_test_salary, y_pred_salary)\n",
    "\n",
    "'''mse = mean_squared_error(y_test, y_pred, multioutput='raw_values')\n",
    "mae = mean_absolute_error(y_test, y_pred)\n",
    "mape = mean_absolute_percentage_error(y_test, y_pred)\n",
    "'''\n",
    "\n",
    "print('MSE', mse)\n",
    "print('MAE', mae)\n",
    "print('MAPE', mape)"
   ]
  },
  {
   "cell_type": "code",
   "execution_count": 14,
   "metadata": {},
   "outputs": [
    {
     "data": {
      "text/html": [
       "<div>\n",
       "<style scoped>\n",
       "    .dataframe tbody tr th:only-of-type {\n",
       "        vertical-align: middle;\n",
       "    }\n",
       "\n",
       "    .dataframe tbody tr th {\n",
       "        vertical-align: top;\n",
       "    }\n",
       "\n",
       "    .dataframe thead th {\n",
       "        text-align: right;\n",
       "    }\n",
       "</style>\n",
       "<table border=\"1\" class=\"dataframe\">\n",
       "  <thead>\n",
       "    <tr style=\"text-align: right;\">\n",
       "      <th></th>\n",
       "      <th>Y True</th>\n",
       "      <th>Y Tree Pred</th>\n",
       "      <th>Difference</th>\n",
       "      <th>OG Index</th>\n",
       "    </tr>\n",
       "  </thead>\n",
       "  <tbody>\n",
       "    <tr>\n",
       "      <th>0</th>\n",
       "      <td>3.591514e+06</td>\n",
       "      <td>1.474410e+06</td>\n",
       "      <td>2.117104e+06</td>\n",
       "      <td>3355</td>\n",
       "    </tr>\n",
       "    <tr>\n",
       "      <th>1</th>\n",
       "      <td>7.221305e+05</td>\n",
       "      <td>4.135854e+05</td>\n",
       "      <td>3.085451e+05</td>\n",
       "      <td>3124</td>\n",
       "    </tr>\n",
       "    <tr>\n",
       "      <th>2</th>\n",
       "      <td>7.673384e+06</td>\n",
       "      <td>8.744314e+06</td>\n",
       "      <td>1.070930e+06</td>\n",
       "      <td>1864</td>\n",
       "    </tr>\n",
       "    <tr>\n",
       "      <th>3</th>\n",
       "      <td>2.548640e+06</td>\n",
       "      <td>5.750574e+06</td>\n",
       "      <td>3.201934e+06</td>\n",
       "      <td>535</td>\n",
       "    </tr>\n",
       "    <tr>\n",
       "      <th>4</th>\n",
       "      <td>1.491075e+06</td>\n",
       "      <td>1.104638e+05</td>\n",
       "      <td>1.380611e+06</td>\n",
       "      <td>2320</td>\n",
       "    </tr>\n",
       "    <tr>\n",
       "      <th>...</th>\n",
       "      <td>...</td>\n",
       "      <td>...</td>\n",
       "      <td>...</td>\n",
       "      <td>...</td>\n",
       "    </tr>\n",
       "    <tr>\n",
       "      <th>837</th>\n",
       "      <td>1.039015e+06</td>\n",
       "      <td>3.595866e+06</td>\n",
       "      <td>2.556852e+06</td>\n",
       "      <td>3963</td>\n",
       "    </tr>\n",
       "    <tr>\n",
       "      <th>838</th>\n",
       "      <td>1.695634e+06</td>\n",
       "      <td>2.196851e+06</td>\n",
       "      <td>5.012167e+05</td>\n",
       "      <td>1730</td>\n",
       "    </tr>\n",
       "    <tr>\n",
       "      <th>839</th>\n",
       "      <td>3.519530e+06</td>\n",
       "      <td>7.046737e+06</td>\n",
       "      <td>3.527207e+06</td>\n",
       "      <td>860</td>\n",
       "    </tr>\n",
       "    <tr>\n",
       "      <th>840</th>\n",
       "      <td>1.692535e+06</td>\n",
       "      <td>5.098445e+06</td>\n",
       "      <td>3.405910e+06</td>\n",
       "      <td>3306</td>\n",
       "    </tr>\n",
       "    <tr>\n",
       "      <th>841</th>\n",
       "      <td>5.223055e+05</td>\n",
       "      <td>2.144765e+06</td>\n",
       "      <td>1.622460e+06</td>\n",
       "      <td>1390</td>\n",
       "    </tr>\n",
       "  </tbody>\n",
       "</table>\n",
       "<p>842 rows × 4 columns</p>\n",
       "</div>"
      ],
      "text/plain": [
       "           Y True   Y Tree Pred    Difference  OG Index\n",
       "0    3.591514e+06  1.474410e+06  2.117104e+06      3355\n",
       "1    7.221305e+05  4.135854e+05  3.085451e+05      3124\n",
       "2    7.673384e+06  8.744314e+06  1.070930e+06      1864\n",
       "3    2.548640e+06  5.750574e+06  3.201934e+06       535\n",
       "4    1.491075e+06  1.104638e+05  1.380611e+06      2320\n",
       "..            ...           ...           ...       ...\n",
       "837  1.039015e+06  3.595866e+06  2.556852e+06      3963\n",
       "838  1.695634e+06  2.196851e+06  5.012167e+05      1730\n",
       "839  3.519530e+06  7.046737e+06  3.527207e+06       860\n",
       "840  1.692535e+06  5.098445e+06  3.405910e+06      3306\n",
       "841  5.223055e+05  2.144765e+06  1.622460e+06      1390\n",
       "\n",
       "[842 rows x 4 columns]"
      ]
     },
     "execution_count": 14,
     "metadata": {},
     "output_type": "execute_result"
    }
   ],
   "source": [
    "results = pd.DataFrame(zip(*[y_test_salary,y_pred_salary]), columns = ['Y True', 'Y Tree Pred'])\n",
    "results['Difference'] = abs(results['Y True'] - results['Y Tree Pred'])\n",
    "results['OG Index'] = y_test.index\n",
    "results"
   ]
  },
  {
   "cell_type": "markdown",
   "metadata": {},
   "source": [
    "# Need to add box cox transformation to all of the below.  "
   ]
  },
  {
   "cell_type": "markdown",
   "metadata": {},
   "source": [
    "# Adaboost"
   ]
  },
  {
   "cell_type": "code",
   "execution_count": 15,
   "metadata": {},
   "outputs": [],
   "source": [
    "from sklearn.ensemble import AdaBoostRegressor\n",
    "\n",
    "regr = AdaBoostRegressor(random_state=7, n_estimators=100)\n",
    "\n",
    "regr.fit(X_train, y_train)\n",
    "\n",
    "y_pred = regr.predict(X_test)"
   ]
  },
  {
   "cell_type": "code",
   "execution_count": 16,
   "metadata": {},
   "outputs": [
    {
     "name": "stdout",
     "output_type": "stream",
     "text": [
      "MSE [100.12066763]\n",
      "MAE 8.235994979240765\n",
      "MAPE 0.14835854767898735\n"
     ]
    }
   ],
   "source": [
    "from sklearn.metrics import mean_squared_error, mean_absolute_error, mean_absolute_percentage_error\n",
    "\n",
    "mse = mean_squared_error(y_test, y_pred, multioutput='raw_values')\n",
    "mae = mean_absolute_error(y_test, y_pred)\n",
    "mape = mean_absolute_percentage_error(y_test, y_pred)\n",
    "\n",
    "print('MSE', mse)\n",
    "print('MAE', mae)\n",
    "print('MAPE', mape)"
   ]
  },
  {
   "cell_type": "markdown",
   "metadata": {},
   "source": [
    "# Linear Regression"
   ]
  },
  {
   "cell_type": "code",
   "execution_count": 17,
   "metadata": {},
   "outputs": [],
   "source": [
    "from sklearn.linear_model import LinearRegression\n",
    "\n",
    "reg = LinearRegression().fit(X_train, y_train)\n",
    "\n",
    "y_pred = reg.predict(X_test)"
   ]
  },
  {
   "cell_type": "code",
   "execution_count": 18,
   "metadata": {},
   "outputs": [
    {
     "name": "stdout",
     "output_type": "stream",
     "text": [
      "MSE [97.28057182]\n",
      "MAE 8.093774866615687\n",
      "MAPE 0.14437399997296113\n"
     ]
    }
   ],
   "source": [
    "from sklearn.metrics import mean_squared_error, mean_absolute_error, mean_absolute_percentage_error\n",
    "\n",
    "mse = mean_squared_error(y_test, y_pred, multioutput='raw_values')\n",
    "mae = mean_absolute_error(y_test, y_pred)\n",
    "mape = mean_absolute_percentage_error(y_test, y_pred)\n",
    "\n",
    "print('MSE', mse)\n",
    "print('MAE', mae)\n",
    "print('MAPE', mape)"
   ]
  },
  {
   "cell_type": "markdown",
   "metadata": {},
   "source": [
    "# KNN"
   ]
  },
  {
   "cell_type": "code",
   "execution_count": 19,
   "metadata": {},
   "outputs": [],
   "source": [
    "from sklearn.neighbors import KNeighborsRegressor\n",
    "\n",
    "neigh = KNeighborsRegressor(n_neighbors=20)\n",
    "\n",
    "neigh.fit(X_train, y_train)\n",
    "\n",
    "y_pred = neigh.predict(X_test)"
   ]
  },
  {
   "cell_type": "code",
   "execution_count": 20,
   "metadata": {},
   "outputs": [
    {
     "name": "stdout",
     "output_type": "stream",
     "text": [
      "MSE [93.11279069]\n",
      "MAE 7.735266037971251\n",
      "MAPE 0.1395466953351569\n"
     ]
    }
   ],
   "source": [
    "from sklearn.metrics import mean_squared_error, mean_absolute_error, mean_absolute_percentage_error\n",
    "\n",
    "mse = mean_squared_error(y_test, y_pred, multioutput='raw_values')\n",
    "mae = mean_absolute_error(y_test, y_pred)\n",
    "mape = mean_absolute_percentage_error(y_test, y_pred)\n",
    "\n",
    "print('MSE', mse)\n",
    "print('MAE', mae)\n",
    "print('MAPE', mape)"
   ]
  },
  {
   "cell_type": "code",
   "execution_count": null,
   "metadata": {},
   "outputs": [],
   "source": []
  }
 ],
 "metadata": {
  "interpreter": {
   "hash": "7db072334cd235532efed8ba6391072d8ff0e81ff473316a8174440cce5fe44b"
  },
  "kernelspec": {
   "display_name": "Python 3.8.12 ('DMSL')",
   "language": "python",
   "name": "python3"
  },
  "language_info": {
   "codemirror_mode": {
    "name": "ipython",
    "version": 3
   },
   "file_extension": ".py",
   "mimetype": "text/x-python",
   "name": "python",
   "nbconvert_exporter": "python",
   "pygments_lexer": "ipython3",
   "version": "3.8.12"
  },
  "orig_nbformat": 4
 },
 "nbformat": 4,
 "nbformat_minor": 2
}
