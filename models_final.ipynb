{
 "cells": [
  {
   "cell_type": "code",
   "execution_count": 38,
   "metadata": {},
   "outputs": [],
   "source": [
    "import pandas as pd\n",
    "import numpy as np\n",
    "\n",
    "import plotly.express as px\n",
    "from scipy.special import inv_boxcox"
   ]
  },
  {
   "cell_type": "markdown",
   "metadata": {},
   "source": [
    "# Load the data"
   ]
  },
  {
   "cell_type": "code",
   "execution_count": 39,
   "metadata": {},
   "outputs": [],
   "source": [
    "df = pd.read_csv('data/NBA_Player_Dataset-2013-2021.csv')\n",
    "\n",
    "box_cox_transformer = 0.16106145323461019 #need to pull from data_prep.ipynb"
   ]
  },
  {
   "cell_type": "code",
   "execution_count": 40,
   "metadata": {},
   "outputs": [],
   "source": [
    "#Can be used to filter out earlier years\n",
    "#df = df[~df['Year'].isin([2013, 2014, 2015])]"
   ]
  },
  {
   "cell_type": "markdown",
   "metadata": {},
   "source": [
    "# Scale the data"
   ]
  },
  {
   "cell_type": "code",
   "execution_count": 41,
   "metadata": {},
   "outputs": [
    {
     "data": {
      "text/plain": [
       "Index(['Year', 'FULL NAME', 'TEAM', 'POS', 'AGE', 'GP', 'MPG', 'MIN%', 'USG%',\n",
       "       'FTA', 'FT%', '2PA', '2P%', '3PA', '3P%', 'eFG%', 'TS%', 'PPG', 'RPG',\n",
       "       'TRB%', 'APG', 'AST%', 'SPG', 'BPG', 'VI', 'ORTG', 'DRTG',\n",
       "       'TO_100_Games', 'Salary', 'Cap Maximum', 'Salary%OfCap', 'Traded',\n",
       "       'Center', 'Forward', 'Guard', 'Salary_Scaled', 'Salary_BoxCox',\n",
       "       'Salary_Scaled_BoxCox'],\n",
       "      dtype='object')"
      ]
     },
     "execution_count": 41,
     "metadata": {},
     "output_type": "execute_result"
    }
   ],
   "source": [
    "df.columns"
   ]
  },
  {
   "cell_type": "code",
   "execution_count": 42,
   "metadata": {},
   "outputs": [],
   "source": [
    "#variables we need to scale\n",
    "\n",
    "x_to_scale = df[['Year', 'AGE', 'GP', 'MPG', 'MIN%', 'USG%',\n",
    "       'FTA', 'FT%', '2PA', '2P%', '3PA', '3P%', 'eFG%', 'TS%', 'PPG', 'RPG',\n",
    "       'TRB%', 'APG', 'AST%', 'SPG', 'BPG', 'VI', 'TO_100_Games']]"
   ]
  },
  {
   "cell_type": "code",
   "execution_count": 43,
   "metadata": {},
   "outputs": [],
   "source": [
    "#scaler function\n",
    "from sklearn.preprocessing import StandardScaler\n",
    "\n",
    "scaler = StandardScaler()\n",
    "scaler.fit(x_to_scale)\n",
    "\n",
    "x_scaled = scaler.transform(x_to_scale)\n",
    "\n",
    "x_scaled_df = pd.DataFrame(x_scaled, columns = x_to_scale.columns)"
   ]
  },
  {
   "cell_type": "code",
   "execution_count": 44,
   "metadata": {},
   "outputs": [
    {
     "data": {
      "text/html": [
       "<div>\n",
       "<style scoped>\n",
       "    .dataframe tbody tr th:only-of-type {\n",
       "        vertical-align: middle;\n",
       "    }\n",
       "\n",
       "    .dataframe tbody tr th {\n",
       "        vertical-align: top;\n",
       "    }\n",
       "\n",
       "    .dataframe thead th {\n",
       "        text-align: right;\n",
       "    }\n",
       "</style>\n",
       "<table border=\"1\" class=\"dataframe\">\n",
       "  <thead>\n",
       "    <tr style=\"text-align: right;\">\n",
       "      <th></th>\n",
       "      <th>Year</th>\n",
       "      <th>AGE</th>\n",
       "      <th>GP</th>\n",
       "      <th>MPG</th>\n",
       "      <th>MIN%</th>\n",
       "      <th>USG%</th>\n",
       "      <th>FTA</th>\n",
       "      <th>FT%</th>\n",
       "      <th>2PA</th>\n",
       "      <th>2P%</th>\n",
       "      <th>...</th>\n",
       "      <th>TS%</th>\n",
       "      <th>PPG</th>\n",
       "      <th>RPG</th>\n",
       "      <th>TRB%</th>\n",
       "      <th>APG</th>\n",
       "      <th>AST%</th>\n",
       "      <th>SPG</th>\n",
       "      <th>BPG</th>\n",
       "      <th>VI</th>\n",
       "      <th>TO_100_Games</th>\n",
       "    </tr>\n",
       "  </thead>\n",
       "  <tbody>\n",
       "    <tr>\n",
       "      <th>0</th>\n",
       "      <td>1.482654</td>\n",
       "      <td>-0.953826</td>\n",
       "      <td>0.525742</td>\n",
       "      <td>0.392690</td>\n",
       "      <td>0.393190</td>\n",
       "      <td>-0.076881</td>\n",
       "      <td>0.015324</td>\n",
       "      <td>-0.558461</td>\n",
       "      <td>0.469838</td>\n",
       "      <td>-0.195886</td>\n",
       "      <td>...</td>\n",
       "      <td>-0.293161</td>\n",
       "      <td>0.032396</td>\n",
       "      <td>1.275948</td>\n",
       "      <td>1.077135</td>\n",
       "      <td>-0.443400</td>\n",
       "      <td>-0.672336</td>\n",
       "      <td>-0.269983</td>\n",
       "      <td>0.352158</td>\n",
       "      <td>0.079020</td>\n",
       "      <td>-0.208811</td>\n",
       "    </tr>\n",
       "    <tr>\n",
       "      <th>1</th>\n",
       "      <td>1.482654</td>\n",
       "      <td>0.504425</td>\n",
       "      <td>0.770085</td>\n",
       "      <td>0.706184</td>\n",
       "      <td>0.704493</td>\n",
       "      <td>-1.108214</td>\n",
       "      <td>0.641433</td>\n",
       "      <td>-0.771311</td>\n",
       "      <td>0.297944</td>\n",
       "      <td>0.521576</td>\n",
       "      <td>...</td>\n",
       "      <td>0.326449</td>\n",
       "      <td>-0.244682</td>\n",
       "      <td>2.531283</td>\n",
       "      <td>1.793029</td>\n",
       "      <td>0.719887</td>\n",
       "      <td>0.251317</td>\n",
       "      <td>0.441002</td>\n",
       "      <td>0.830343</td>\n",
       "      <td>1.104846</td>\n",
       "      <td>1.096346</td>\n",
       "    </tr>\n",
       "    <tr>\n",
       "      <th>2</th>\n",
       "      <td>1.482654</td>\n",
       "      <td>-0.440957</td>\n",
       "      <td>-0.125837</td>\n",
       "      <td>1.387224</td>\n",
       "      <td>1.389359</td>\n",
       "      <td>1.146735</td>\n",
       "      <td>1.376067</td>\n",
       "      <td>0.249401</td>\n",
       "      <td>1.287289</td>\n",
       "      <td>0.490040</td>\n",
       "      <td>...</td>\n",
       "      <td>0.622382</td>\n",
       "      <td>1.694868</td>\n",
       "      <td>2.693262</td>\n",
       "      <td>1.444756</td>\n",
       "      <td>0.886071</td>\n",
       "      <td>0.533846</td>\n",
       "      <td>2.052568</td>\n",
       "      <td>0.902071</td>\n",
       "      <td>1.745987</td>\n",
       "      <td>0.258468</td>\n",
       "    </tr>\n",
       "    <tr>\n",
       "      <th>3</th>\n",
       "      <td>1.482654</td>\n",
       "      <td>2.395189</td>\n",
       "      <td>-0.166561</td>\n",
       "      <td>0.306209</td>\n",
       "      <td>0.315365</td>\n",
       "      <td>0.709729</td>\n",
       "      <td>-0.043113</td>\n",
       "      <td>0.825063</td>\n",
       "      <td>0.530956</td>\n",
       "      <td>0.734450</td>\n",
       "      <td>...</td>\n",
       "      <td>0.724109</td>\n",
       "      <td>0.798437</td>\n",
       "      <td>0.790012</td>\n",
       "      <td>0.632119</td>\n",
       "      <td>-0.554190</td>\n",
       "      <td>-0.726669</td>\n",
       "      <td>-0.767672</td>\n",
       "      <td>1.475893</td>\n",
       "      <td>0.249991</td>\n",
       "      <td>-0.821106</td>\n",
       "    </tr>\n",
       "    <tr>\n",
       "      <th>4</th>\n",
       "      <td>1.482654</td>\n",
       "      <td>-0.705664</td>\n",
       "      <td>0.444295</td>\n",
       "      <td>-0.126197</td>\n",
       "      <td>-0.117865</td>\n",
       "      <td>0.482486</td>\n",
       "      <td>0.006976</td>\n",
       "      <td>0.546907</td>\n",
       "      <td>0.259745</td>\n",
       "      <td>-0.483659</td>\n",
       "      <td>...</td>\n",
       "      <td>-0.547479</td>\n",
       "      <td>-0.049097</td>\n",
       "      <td>-0.404581</td>\n",
       "      <td>-0.374002</td>\n",
       "      <td>0.055151</td>\n",
       "      <td>0.229584</td>\n",
       "      <td>-0.175185</td>\n",
       "      <td>-0.149936</td>\n",
       "      <td>0.356848</td>\n",
       "      <td>-0.144358</td>\n",
       "    </tr>\n",
       "    <tr>\n",
       "      <th>...</th>\n",
       "      <td>...</td>\n",
       "      <td>...</td>\n",
       "      <td>...</td>\n",
       "      <td>...</td>\n",
       "      <td>...</td>\n",
       "      <td>...</td>\n",
       "      <td>...</td>\n",
       "      <td>...</td>\n",
       "      <td>...</td>\n",
       "      <td>...</td>\n",
       "      <td>...</td>\n",
       "      <td>...</td>\n",
       "      <td>...</td>\n",
       "      <td>...</td>\n",
       "      <td>...</td>\n",
       "      <td>...</td>\n",
       "      <td>...</td>\n",
       "      <td>...</td>\n",
       "      <td>...</td>\n",
       "      <td>...</td>\n",
       "      <td>...</td>\n",
       "    </tr>\n",
       "    <tr>\n",
       "      <th>4205</th>\n",
       "      <td>-1.606858</td>\n",
       "      <td>-1.544690</td>\n",
       "      <td>0.932979</td>\n",
       "      <td>0.468361</td>\n",
       "      <td>0.450262</td>\n",
       "      <td>1.618701</td>\n",
       "      <td>1.826865</td>\n",
       "      <td>-0.297236</td>\n",
       "      <td>1.333128</td>\n",
       "      <td>0.040640</td>\n",
       "      <td>...</td>\n",
       "      <td>-0.330153</td>\n",
       "      <td>0.716944</td>\n",
       "      <td>-0.181861</td>\n",
       "      <td>-0.606184</td>\n",
       "      <td>0.609097</td>\n",
       "      <td>0.881574</td>\n",
       "      <td>1.057189</td>\n",
       "      <td>-0.436847</td>\n",
       "      <td>0.677418</td>\n",
       "      <td>0.774085</td>\n",
       "    </tr>\n",
       "    <tr>\n",
       "      <th>4206</th>\n",
       "      <td>-1.606858</td>\n",
       "      <td>0.346074</td>\n",
       "      <td>0.607190</td>\n",
       "      <td>0.879147</td>\n",
       "      <td>0.870521</td>\n",
       "      <td>1.461379</td>\n",
       "      <td>1.484592</td>\n",
       "      <td>0.592863</td>\n",
       "      <td>1.023718</td>\n",
       "      <td>-0.148581</td>\n",
       "      <td>...</td>\n",
       "      <td>0.326449</td>\n",
       "      <td>1.515582</td>\n",
       "      <td>-0.424829</td>\n",
       "      <td>-1.012503</td>\n",
       "      <td>-0.221822</td>\n",
       "      <td>-0.433273</td>\n",
       "      <td>0.227707</td>\n",
       "      <td>-0.508575</td>\n",
       "      <td>-0.305665</td>\n",
       "      <td>-0.692202</td>\n",
       "    </tr>\n",
       "    <tr>\n",
       "      <th>4207</th>\n",
       "      <td>-1.606858</td>\n",
       "      <td>-0.362963</td>\n",
       "      <td>1.218045</td>\n",
       "      <td>1.538566</td>\n",
       "      <td>1.508692</td>\n",
       "      <td>0.989413</td>\n",
       "      <td>1.017098</td>\n",
       "      <td>0.046226</td>\n",
       "      <td>2.750298</td>\n",
       "      <td>0.072177</td>\n",
       "      <td>...</td>\n",
       "      <td>-0.154443</td>\n",
       "      <td>1.515582</td>\n",
       "      <td>0.951991</td>\n",
       "      <td>-0.122472</td>\n",
       "      <td>0.221335</td>\n",
       "      <td>-0.129011</td>\n",
       "      <td>3.545637</td>\n",
       "      <td>0.136975</td>\n",
       "      <td>0.292734</td>\n",
       "      <td>-0.353828</td>\n",
       "    </tr>\n",
       "    <tr>\n",
       "      <th>4208</th>\n",
       "      <td>-1.606858</td>\n",
       "      <td>-1.308345</td>\n",
       "      <td>1.340217</td>\n",
       "      <td>-0.309970</td>\n",
       "      <td>-0.327994</td>\n",
       "      <td>0.080441</td>\n",
       "      <td>0.775002</td>\n",
       "      <td>0.133301</td>\n",
       "      <td>0.504217</td>\n",
       "      <td>-0.471833</td>\n",
       "      <td>...</td>\n",
       "      <td>-0.283913</td>\n",
       "      <td>-0.423968</td>\n",
       "      <td>0.263581</td>\n",
       "      <td>0.786907</td>\n",
       "      <td>-0.443400</td>\n",
       "      <td>-0.281142</td>\n",
       "      <td>-0.341081</td>\n",
       "      <td>0.232612</td>\n",
       "      <td>0.207248</td>\n",
       "      <td>0.339033</td>\n",
       "    </tr>\n",
       "    <tr>\n",
       "      <th>4209</th>\n",
       "      <td>-1.606858</td>\n",
       "      <td>-0.599308</td>\n",
       "      <td>0.851532</td>\n",
       "      <td>-0.558603</td>\n",
       "      <td>-0.582225</td>\n",
       "      <td>-0.216723</td>\n",
       "      <td>0.115501</td>\n",
       "      <td>0.080088</td>\n",
       "      <td>0.068752</td>\n",
       "      <td>0.419082</td>\n",
       "      <td>...</td>\n",
       "      <td>0.483663</td>\n",
       "      <td>-0.472865</td>\n",
       "      <td>0.142097</td>\n",
       "      <td>0.980392</td>\n",
       "      <td>-0.775768</td>\n",
       "      <td>-0.824467</td>\n",
       "      <td>-0.886170</td>\n",
       "      <td>0.328249</td>\n",
       "      <td>-0.220179</td>\n",
       "      <td>0.322920</td>\n",
       "    </tr>\n",
       "  </tbody>\n",
       "</table>\n",
       "<p>4210 rows × 23 columns</p>\n",
       "</div>"
      ],
      "text/plain": [
       "          Year       AGE        GP       MPG      MIN%      USG%       FTA  \\\n",
       "0     1.482654 -0.953826  0.525742  0.392690  0.393190 -0.076881  0.015324   \n",
       "1     1.482654  0.504425  0.770085  0.706184  0.704493 -1.108214  0.641433   \n",
       "2     1.482654 -0.440957 -0.125837  1.387224  1.389359  1.146735  1.376067   \n",
       "3     1.482654  2.395189 -0.166561  0.306209  0.315365  0.709729 -0.043113   \n",
       "4     1.482654 -0.705664  0.444295 -0.126197 -0.117865  0.482486  0.006976   \n",
       "...        ...       ...       ...       ...       ...       ...       ...   \n",
       "4205 -1.606858 -1.544690  0.932979  0.468361  0.450262  1.618701  1.826865   \n",
       "4206 -1.606858  0.346074  0.607190  0.879147  0.870521  1.461379  1.484592   \n",
       "4207 -1.606858 -0.362963  1.218045  1.538566  1.508692  0.989413  1.017098   \n",
       "4208 -1.606858 -1.308345  1.340217 -0.309970 -0.327994  0.080441  0.775002   \n",
       "4209 -1.606858 -0.599308  0.851532 -0.558603 -0.582225 -0.216723  0.115501   \n",
       "\n",
       "           FT%       2PA       2P%  ...       TS%       PPG       RPG  \\\n",
       "0    -0.558461  0.469838 -0.195886  ... -0.293161  0.032396  1.275948   \n",
       "1    -0.771311  0.297944  0.521576  ...  0.326449 -0.244682  2.531283   \n",
       "2     0.249401  1.287289  0.490040  ...  0.622382  1.694868  2.693262   \n",
       "3     0.825063  0.530956  0.734450  ...  0.724109  0.798437  0.790012   \n",
       "4     0.546907  0.259745 -0.483659  ... -0.547479 -0.049097 -0.404581   \n",
       "...        ...       ...       ...  ...       ...       ...       ...   \n",
       "4205 -0.297236  1.333128  0.040640  ... -0.330153  0.716944 -0.181861   \n",
       "4206  0.592863  1.023718 -0.148581  ...  0.326449  1.515582 -0.424829   \n",
       "4207  0.046226  2.750298  0.072177  ... -0.154443  1.515582  0.951991   \n",
       "4208  0.133301  0.504217 -0.471833  ... -0.283913 -0.423968  0.263581   \n",
       "4209  0.080088  0.068752  0.419082  ...  0.483663 -0.472865  0.142097   \n",
       "\n",
       "          TRB%       APG      AST%       SPG       BPG        VI  TO_100_Games  \n",
       "0     1.077135 -0.443400 -0.672336 -0.269983  0.352158  0.079020     -0.208811  \n",
       "1     1.793029  0.719887  0.251317  0.441002  0.830343  1.104846      1.096346  \n",
       "2     1.444756  0.886071  0.533846  2.052568  0.902071  1.745987      0.258468  \n",
       "3     0.632119 -0.554190 -0.726669 -0.767672  1.475893  0.249991     -0.821106  \n",
       "4    -0.374002  0.055151  0.229584 -0.175185 -0.149936  0.356848     -0.144358  \n",
       "...        ...       ...       ...       ...       ...       ...           ...  \n",
       "4205 -0.606184  0.609097  0.881574  1.057189 -0.436847  0.677418      0.774085  \n",
       "4206 -1.012503 -0.221822 -0.433273  0.227707 -0.508575 -0.305665     -0.692202  \n",
       "4207 -0.122472  0.221335 -0.129011  3.545637  0.136975  0.292734     -0.353828  \n",
       "4208  0.786907 -0.443400 -0.281142 -0.341081  0.232612  0.207248      0.339033  \n",
       "4209  0.980392 -0.775768 -0.824467 -0.886170  0.328249 -0.220179      0.322920  \n",
       "\n",
       "[4210 rows x 23 columns]"
      ]
     },
     "execution_count": 44,
     "metadata": {},
     "output_type": "execute_result"
    }
   ],
   "source": [
    "x_scaled_df"
   ]
  },
  {
   "cell_type": "code",
   "execution_count": 45,
   "metadata": {},
   "outputs": [],
   "source": [
    "#add the categorical features to scaled features for input\n",
    "X = pd.concat([x_scaled_df, df[['Center', 'Forward', 'Guard']]], axis = 1)\n",
    "\n",
    "#choose our target variable\n",
    "#y = df['Salary']\n",
    "y = df['Salary_BoxCox']"
   ]
  },
  {
   "cell_type": "markdown",
   "metadata": {},
   "source": [
    "# Feature Selection\n",
    "SelectKBest\n",
    "https://scikit-learn.org/stable/modules/generated/sklearn.feature_selection.SelectKBest.html\n",
    "\n",
    "### Scorer for regression\n",
    "https://scikit-learn.org/stable/modules/generated/sklearn.feature_selection.f_regression.html#sklearn.feature_selection.f_regression"
   ]
  },
  {
   "cell_type": "code",
   "execution_count": 47,
   "metadata": {},
   "outputs": [],
   "source": [
    "#remove highly correlated variables first from data explore correlation section\n",
    "\n",
    "X_subset = X.drop(['MIN%', 'FTA', 'MPG', 'AST%', 'PPG'], axis = 1)"
   ]
  },
  {
   "cell_type": "code",
   "execution_count": 48,
   "metadata": {},
   "outputs": [],
   "source": [
    "#Use SelectKbest and f_regression for variable score\n",
    "\n",
    "from sklearn.feature_selection import SelectKBest, f_regression\n",
    "\n",
    "selectKBest = SelectKBest(f_regression, k=6)\n",
    "\n",
    "selectKBest.fit(X_subset, y)\n",
    "\n",
    "X_best_features = selectKBest.transform(X_subset)\n",
    "x_best_feature_names = selectKBest.get_feature_names_out()"
   ]
  },
  {
   "cell_type": "code",
   "execution_count": 49,
   "metadata": {},
   "outputs": [
    {
     "data": {
      "text/html": [
       "<div>\n",
       "<style scoped>\n",
       "    .dataframe tbody tr th:only-of-type {\n",
       "        vertical-align: middle;\n",
       "    }\n",
       "\n",
       "    .dataframe tbody tr th {\n",
       "        vertical-align: top;\n",
       "    }\n",
       "\n",
       "    .dataframe thead th {\n",
       "        text-align: right;\n",
       "    }\n",
       "</style>\n",
       "<table border=\"1\" class=\"dataframe\">\n",
       "  <thead>\n",
       "    <tr style=\"text-align: right;\">\n",
       "      <th></th>\n",
       "      <th>GP</th>\n",
       "      <th>2PA</th>\n",
       "      <th>RPG</th>\n",
       "      <th>APG</th>\n",
       "      <th>SPG</th>\n",
       "      <th>VI</th>\n",
       "    </tr>\n",
       "  </thead>\n",
       "  <tbody>\n",
       "    <tr>\n",
       "      <th>0</th>\n",
       "      <td>0.525742</td>\n",
       "      <td>0.469838</td>\n",
       "      <td>1.275948</td>\n",
       "      <td>-0.443400</td>\n",
       "      <td>-0.269983</td>\n",
       "      <td>0.079020</td>\n",
       "    </tr>\n",
       "    <tr>\n",
       "      <th>1</th>\n",
       "      <td>0.770085</td>\n",
       "      <td>0.297944</td>\n",
       "      <td>2.531283</td>\n",
       "      <td>0.719887</td>\n",
       "      <td>0.441002</td>\n",
       "      <td>1.104846</td>\n",
       "    </tr>\n",
       "    <tr>\n",
       "      <th>2</th>\n",
       "      <td>-0.125837</td>\n",
       "      <td>1.287289</td>\n",
       "      <td>2.693262</td>\n",
       "      <td>0.886071</td>\n",
       "      <td>2.052568</td>\n",
       "      <td>1.745987</td>\n",
       "    </tr>\n",
       "    <tr>\n",
       "      <th>3</th>\n",
       "      <td>-0.166561</td>\n",
       "      <td>0.530956</td>\n",
       "      <td>0.790012</td>\n",
       "      <td>-0.554190</td>\n",
       "      <td>-0.767672</td>\n",
       "      <td>0.249991</td>\n",
       "    </tr>\n",
       "    <tr>\n",
       "      <th>4</th>\n",
       "      <td>0.444295</td>\n",
       "      <td>0.259745</td>\n",
       "      <td>-0.404581</td>\n",
       "      <td>0.055151</td>\n",
       "      <td>-0.175185</td>\n",
       "      <td>0.356848</td>\n",
       "    </tr>\n",
       "  </tbody>\n",
       "</table>\n",
       "</div>"
      ],
      "text/plain": [
       "         GP       2PA       RPG       APG       SPG        VI\n",
       "0  0.525742  0.469838  1.275948 -0.443400 -0.269983  0.079020\n",
       "1  0.770085  0.297944  2.531283  0.719887  0.441002  1.104846\n",
       "2 -0.125837  1.287289  2.693262  0.886071  2.052568  1.745987\n",
       "3 -0.166561  0.530956  0.790012 -0.554190 -0.767672  0.249991\n",
       "4  0.444295  0.259745 -0.404581  0.055151 -0.175185  0.356848"
      ]
     },
     "execution_count": 49,
     "metadata": {},
     "output_type": "execute_result"
    }
   ],
   "source": [
    "X_best_features_df = pd.DataFrame(X_best_features, columns = x_best_feature_names)\n",
    "X_best_features_df.head()"
   ]
  },
  {
   "cell_type": "markdown",
   "metadata": {},
   "source": [
    "# Grid Search CV\n",
    "\n",
    "https://scikit-learn.org/stable/modules/generated/sklearn.model_selection.GridSearchCV.html\n",
    "\n",
    "https://scikit-learn.org/stable/modules/grid_search.html"
   ]
  },
  {
   "cell_type": "markdown",
   "metadata": {},
   "source": [
    "# Random Forest"
   ]
  },
  {
   "cell_type": "code",
   "execution_count": 69,
   "metadata": {},
   "outputs": [],
   "source": [
    "from sklearn.model_selection import GridSearchCV\n",
    "from sklearn.ensemble import RandomForestRegressor\n",
    "\n",
    "#call the model you want to use, define any parameters you want to hold steady across the search\n",
    "random_forest = RandomForestRegressor(verbose = 1)\n",
    "\n",
    "#Create a search grid of parameters\n",
    "rf_param_grid = [\n",
    "  {'n_estimators': [100, 250], 'max_depth': [10, 25], 'max_features': [5, 10, 20]},\n",
    " ]\n",
    "\n",
    "#Create grid search\n",
    "rf_gridsearch = GridSearchCV(random_forest, rf_param_grid, \n",
    "                            scoring = 'neg_root_mean_squared_error', \n",
    "                            verbose = 2, \n",
    "                            n_jobs = -1)\n",
    "\n",
    "#grid search maximizes, so scorer needs to be negative in this case.  Real MSE is just the positive version"
   ]
  },
  {
   "cell_type": "code",
   "execution_count": 70,
   "metadata": {},
   "outputs": [
    {
     "name": "stdout",
     "output_type": "stream",
     "text": [
      "Fitting 5 folds for each of 12 candidates, totalling 60 fits\n"
     ]
    },
    {
     "name": "stderr",
     "output_type": "stream",
     "text": [
      "[Parallel(n_jobs=1)]: Using backend SequentialBackend with 1 concurrent workers.\n",
      "[Parallel(n_jobs=1)]: Done 250 out of 250 | elapsed:    5.3s finished\n"
     ]
    },
    {
     "data": {
      "text/plain": [
       "GridSearchCV(estimator=RandomForestRegressor(verbose=1), n_jobs=-1,\n",
       "             param_grid=[{'max_depth': [10, 25], 'max_features': [5, 10, 20],\n",
       "                          'n_estimators': [100, 250]}],\n",
       "             scoring='neg_root_mean_squared_error', verbose=2)"
      ]
     },
     "execution_count": 70,
     "metadata": {},
     "output_type": "execute_result"
    }
   ],
   "source": [
    "#Utilize full dataset for random forest\n",
    "rf_gridsearch.fit(X, y)"
   ]
  },
  {
   "cell_type": "code",
   "execution_count": 71,
   "metadata": {},
   "outputs": [],
   "source": [
    "random_forest_results = pd.DataFrame(rf_gridsearch.cv_results_)\n",
    "\n",
    "#replace -mse with +mse\n",
    "random_forest_results[['split0_test_score', 'split1_test_score', 'split2_test_score',\n",
    "       'split3_test_score', 'split4_test_score', 'mean_test_score']] = random_forest_results[['split0_test_score', 'split1_test_score', 'split2_test_score',\n",
    "       'split3_test_score', 'split4_test_score', 'mean_test_score']] * -1.0\n",
    "\n",
    "#add label to pull merge data later\n",
    "random_forest_results['Model Type'] = 'Random Forest'\n",
    "random_forest_results['Training Data'] = 'Full Dataset'"
   ]
  },
  {
   "cell_type": "code",
   "execution_count": 72,
   "metadata": {},
   "outputs": [],
   "source": [
    "#write to csv to save results\n",
    "random_forest_results.to_csv('results/rf_results_all_vars.csv', index = False)"
   ]
  },
  {
   "cell_type": "markdown",
   "metadata": {},
   "source": [
    "# KNN\n",
    "https://scikit-learn.org/stable/modules/generated/sklearn.neighbors.KNeighborsRegressor.html\n",
    "\n",
    "Will try with full and subset of X data"
   ]
  },
  {
   "cell_type": "code",
   "execution_count": 73,
   "metadata": {},
   "outputs": [],
   "source": [
    "from sklearn.neighbors import KNeighborsRegressor\n",
    "\n",
    "knn = KNeighborsRegressor()\n",
    "\n",
    "knn_param_grid = [\n",
    "  {'n_neighbors': [5, 10, 20, 50], 'weights':['uniform', 'distance'], 'p': [1, 2]},\n",
    " ]\n",
    "\n",
    "knn_grid_search = GridSearchCV(knn, knn_param_grid, verbose = 2, n_jobs = -1, scoring = 'neg_root_mean_squared_error')"
   ]
  },
  {
   "cell_type": "code",
   "execution_count": 74,
   "metadata": {},
   "outputs": [
    {
     "name": "stdout",
     "output_type": "stream",
     "text": [
      "Fitting 5 folds for each of 16 candidates, totalling 80 fits\n"
     ]
    },
    {
     "data": {
      "text/plain": [
       "GridSearchCV(estimator=KNeighborsRegressor(), n_jobs=-1,\n",
       "             param_grid=[{'n_neighbors': [5, 10, 20, 50], 'p': [1, 2],\n",
       "                          'weights': ['uniform', 'distance']}],\n",
       "             scoring='neg_root_mean_squared_error', verbose=2)"
      ]
     },
     "execution_count": 74,
     "metadata": {},
     "output_type": "execute_result"
    }
   ],
   "source": [
    "#Try KNN with full\n",
    "knn_grid_search.fit(X, y)"
   ]
  },
  {
   "cell_type": "code",
   "execution_count": 75,
   "metadata": {},
   "outputs": [],
   "source": [
    "knn_results = pd.DataFrame(knn_grid_search.cv_results_)\n",
    "\n",
    "#replace -mse with +mse\n",
    "knn_results[['split0_test_score', 'split1_test_score', 'split2_test_score',\n",
    "       'split3_test_score', 'split4_test_score', 'mean_test_score']] =\\\n",
    "knn_results[['split0_test_score', 'split1_test_score', 'split2_test_score',\n",
    "       'split3_test_score', 'split4_test_score', 'mean_test_score']] * -1.0\n",
    "\n",
    "#add label to pull merge data later\n",
    "knn_results['Model Type'] = 'KNN'\n",
    "knn_results['Training Data'] = 'Full Dataset'"
   ]
  },
  {
   "cell_type": "code",
   "execution_count": 76,
   "metadata": {},
   "outputs": [],
   "source": [
    "#write to csv to save results\n",
    "knn_results.to_csv('results/knn_results_all_vars.csv', index = False)"
   ]
  },
  {
   "cell_type": "markdown",
   "metadata": {},
   "source": [
    "### KNN Subset"
   ]
  },
  {
   "cell_type": "code",
   "execution_count": 78,
   "metadata": {},
   "outputs": [
    {
     "name": "stdout",
     "output_type": "stream",
     "text": [
      "Fitting 5 folds for each of 16 candidates, totalling 80 fits\n"
     ]
    },
    {
     "data": {
      "text/plain": [
       "GridSearchCV(estimator=KNeighborsRegressor(), n_jobs=-1,\n",
       "             param_grid=[{'n_neighbors': [5, 10, 20, 50], 'p': [1, 2],\n",
       "                          'weights': ['uniform', 'distance']}],\n",
       "             scoring='neg_root_mean_squared_error', verbose=2)"
      ]
     },
     "execution_count": 78,
     "metadata": {},
     "output_type": "execute_result"
    }
   ],
   "source": [
    "#Try KNN with subset of X\n",
    "knn_grid_search.fit(X_best_features_df, y)"
   ]
  },
  {
   "cell_type": "code",
   "execution_count": 80,
   "metadata": {},
   "outputs": [],
   "source": [
    "knn_results2 = pd.DataFrame(knn_grid_search.cv_results_)\n",
    "\n",
    "#replace -mse with +mse\n",
    "knn_results2[['split0_test_score', 'split1_test_score', 'split2_test_score',\n",
    "       'split3_test_score', 'split4_test_score', 'mean_test_score']] =\\\n",
    "knn_results2[['split0_test_score', 'split1_test_score', 'split2_test_score',\n",
    "       'split3_test_score', 'split4_test_score', 'mean_test_score']] * -1.0\n",
    "\n",
    "#add label to pull merge data later\n",
    "knn_results2['Model Type'] = 'KNN'\n",
    "knn_results2['Training Data'] = 'Subset Dataset'"
   ]
  },
  {
   "cell_type": "code",
   "execution_count": 81,
   "metadata": {},
   "outputs": [],
   "source": [
    "#write to csv to save results\n",
    "knn_results2.to_csv('results/knn_results_subset_vars.csv', index = False)"
   ]
  },
  {
   "cell_type": "markdown",
   "metadata": {},
   "source": [
    "# Support Vector Machine\n",
    "https://scikit-learn.org/stable/modules/generated/sklearn.svm.SVR.html"
   ]
  },
  {
   "cell_type": "code",
   "execution_count": 84,
   "metadata": {},
   "outputs": [],
   "source": [
    "from sklearn.svm import SVR\n",
    "\n",
    "svm = SVR()\n",
    "\n",
    "svm_param_grid = [\n",
    "  {'kernel': ['linear'], 'degree': [2, 3, 4], 'C': [.001, .01, .1, 1, 10, 100, 1000]},\n",
    "  {'kernel': ['poly', 'rbf', 'sigmoid'], 'gamma': ['scale', 'auto'], 'C': [.001, .01, .1, 1, 10, 100, 1000]}\n",
    "]\n",
    "\n",
    "svm_grid_search = GridSearchCV(svm, svm_param_grid, \n",
    "                                verbose = 2, \n",
    "                                n_jobs = -1, \n",
    "                                scoring = 'neg_root_mean_squared_error')"
   ]
  },
  {
   "cell_type": "code",
   "execution_count": 85,
   "metadata": {},
   "outputs": [
    {
     "name": "stdout",
     "output_type": "stream",
     "text": [
      "Fitting 5 folds for each of 63 candidates, totalling 315 fits\n"
     ]
    },
    {
     "data": {
      "text/plain": [
       "GridSearchCV(estimator=SVR(), n_jobs=-1,\n",
       "             param_grid=[{'C': [0.001, 0.01, 0.1, 1, 10, 100, 1000],\n",
       "                          'degree': [2, 3, 4], 'kernel': ['linear']},\n",
       "                         {'C': [0.001, 0.01, 0.1, 1, 10, 100, 1000],\n",
       "                          'gamma': ['scale', 'auto'],\n",
       "                          'kernel': ['poly', 'rbf', 'sigmoid']}],\n",
       "             scoring='neg_root_mean_squared_error', verbose=2)"
      ]
     },
     "execution_count": 85,
     "metadata": {},
     "output_type": "execute_result"
    }
   ],
   "source": [
    "#Try KNN with full and subset\n",
    "svm_grid_search.fit(X, y)"
   ]
  },
  {
   "cell_type": "code",
   "execution_count": 86,
   "metadata": {},
   "outputs": [],
   "source": [
    "svm_results = pd.DataFrame(svm_grid_search.cv_results_)\n",
    "\n",
    "#replace -mse with +mse\n",
    "svm_results[['split0_test_score', 'split1_test_score', 'split2_test_score',\n",
    "       'split3_test_score', 'split4_test_score', 'mean_test_score']] =\\\n",
    "svm_results[['split0_test_score', 'split1_test_score', 'split2_test_score',\n",
    "       'split3_test_score', 'split4_test_score', 'mean_test_score']] * -1.0\n",
    "\n",
    "#add label to pull merge data later\n",
    "svm_results['Model Type'] = 'SVM'\n",
    "svm_results['Training Data'] = 'Full Dataset'"
   ]
  },
  {
   "cell_type": "code",
   "execution_count": 87,
   "metadata": {},
   "outputs": [],
   "source": [
    "#write to csv to save results\n",
    "svm_results.to_csv('results/svm_results_all_vars.csv', index = False)"
   ]
  },
  {
   "cell_type": "markdown",
   "metadata": {},
   "source": [
    "### SVM Subset X"
   ]
  },
  {
   "cell_type": "code",
   "execution_count": 88,
   "metadata": {},
   "outputs": [
    {
     "name": "stdout",
     "output_type": "stream",
     "text": [
      "Fitting 5 folds for each of 63 candidates, totalling 315 fits\n"
     ]
    },
    {
     "data": {
      "text/plain": [
       "GridSearchCV(estimator=SVR(), n_jobs=-1,\n",
       "             param_grid=[{'C': [0.001, 0.01, 0.1, 1, 10, 100, 1000],\n",
       "                          'degree': [2, 3, 4], 'kernel': ['linear']},\n",
       "                         {'C': [0.001, 0.01, 0.1, 1, 10, 100, 1000],\n",
       "                          'gamma': ['scale', 'auto'],\n",
       "                          'kernel': ['poly', 'rbf', 'sigmoid']}],\n",
       "             scoring='neg_root_mean_squared_error', verbose=2)"
      ]
     },
     "execution_count": 88,
     "metadata": {},
     "output_type": "execute_result"
    }
   ],
   "source": [
    "#Try KNN with full and subset\n",
    "svm_grid_search.fit(X_best_features_df, y)"
   ]
  },
  {
   "cell_type": "code",
   "execution_count": 89,
   "metadata": {},
   "outputs": [],
   "source": [
    "svm_results2 = pd.DataFrame(svm_grid_search.cv_results_)\n",
    "\n",
    "#replace -mse with +mse\n",
    "svm_results2[['split0_test_score', 'split1_test_score', 'split2_test_score',\n",
    "       'split3_test_score', 'split4_test_score', 'mean_test_score']] =\\\n",
    "svm_results2[['split0_test_score', 'split1_test_score', 'split2_test_score',\n",
    "       'split3_test_score', 'split4_test_score', 'mean_test_score']] * -1.0\n",
    "\n",
    "#add label to pull merge data later\n",
    "svm_results2['Model Type'] = 'SVM'\n",
    "svm_results2['Training Data'] = 'Subset Dataset'"
   ]
  },
  {
   "cell_type": "code",
   "execution_count": 90,
   "metadata": {},
   "outputs": [],
   "source": [
    "#write to csv to save results\n",
    "svm_results2.to_csv('results/svm_results_subset_vars.csv', index = False)"
   ]
  },
  {
   "cell_type": "markdown",
   "metadata": {},
   "source": [
    "# Linear Regression (OLS)\n",
    "https://scikit-learn.org/stable/modules/generated/sklearn.linear_model.LinearRegression.html"
   ]
  },
  {
   "cell_type": "code",
   "execution_count": 91,
   "metadata": {},
   "outputs": [],
   "source": [
    "from sklearn.linear_model import LinearRegression\n",
    "\n",
    "linreg = LinearRegression()\n",
    "\n",
    "linreg_param_grid = [\n",
    "  {'fit_intercept': [True]}\n",
    "]\n",
    "\n",
    "linreg_grid_search = GridSearchCV(linreg, linreg_param_grid, \n",
    "                                verbose = 2, \n",
    "                                n_jobs = -1, \n",
    "                                scoring = 'neg_root_mean_squared_error')"
   ]
  },
  {
   "cell_type": "code",
   "execution_count": 92,
   "metadata": {},
   "outputs": [
    {
     "name": "stdout",
     "output_type": "stream",
     "text": [
      "Fitting 5 folds for each of 1 candidates, totalling 5 fits\n"
     ]
    },
    {
     "data": {
      "text/plain": [
       "GridSearchCV(estimator=LinearRegression(), n_jobs=-1,\n",
       "             param_grid=[{'fit_intercept': [True]}],\n",
       "             scoring='neg_root_mean_squared_error', verbose=2)"
      ]
     },
     "execution_count": 92,
     "metadata": {},
     "output_type": "execute_result"
    }
   ],
   "source": [
    "#Linear Regression with subset dataset\n",
    "linreg_grid_search.fit(X_best_features_df, y)"
   ]
  },
  {
   "cell_type": "code",
   "execution_count": 93,
   "metadata": {},
   "outputs": [],
   "source": [
    "linreg_results = pd.DataFrame(linreg_grid_search.cv_results_)\n",
    "\n",
    "#replace -mse with +mse\n",
    "linreg_results[['split0_test_score', 'split1_test_score', 'split2_test_score',\n",
    "       'split3_test_score', 'split4_test_score', 'mean_test_score']] =\\\n",
    "linreg_results[['split0_test_score', 'split1_test_score', 'split2_test_score',\n",
    "       'split3_test_score', 'split4_test_score', 'mean_test_score']] * -1.0\n",
    "\n",
    "#add label to pull merge data later\n",
    "linreg_results['Model Type'] = 'Linear Regression'\n",
    "linreg_results['Training Data'] = 'Subset Dataset'"
   ]
  },
  {
   "cell_type": "code",
   "execution_count": 94,
   "metadata": {},
   "outputs": [],
   "source": [
    "#write to csv to save results\n",
    "linreg_results.to_csv('results/linreg_results_subset_vars.csv', index = False)"
   ]
  },
  {
   "cell_type": "markdown",
   "metadata": {},
   "source": [
    "# Ridge Regression"
   ]
  },
  {
   "cell_type": "code",
   "execution_count": 95,
   "metadata": {},
   "outputs": [],
   "source": [
    "from sklearn.linear_model import Ridge\n",
    "\n",
    "ridge = Ridge()\n",
    "\n",
    "ridge_param_grid = [\n",
    "  {'alpha': [.001, .01, .1, 1, 10]}\n",
    "]\n",
    "\n",
    "ridge_grid_search = GridSearchCV(ridge, ridge_param_grid, \n",
    "                                verbose = 2, \n",
    "                                n_jobs = -1, \n",
    "                                scoring = 'neg_root_mean_squared_error')"
   ]
  },
  {
   "cell_type": "code",
   "execution_count": 96,
   "metadata": {},
   "outputs": [
    {
     "name": "stdout",
     "output_type": "stream",
     "text": [
      "Fitting 5 folds for each of 5 candidates, totalling 25 fits\n"
     ]
    },
    {
     "data": {
      "text/plain": [
       "GridSearchCV(estimator=Ridge(), n_jobs=-1,\n",
       "             param_grid=[{'alpha': [0.001, 0.01, 0.1, 1, 10]}],\n",
       "             scoring='neg_root_mean_squared_error', verbose=2)"
      ]
     },
     "execution_count": 96,
     "metadata": {},
     "output_type": "execute_result"
    }
   ],
   "source": [
    "#Full dataset with ridge - will self select features\n",
    "ridge_grid_search.fit(X, y)"
   ]
  },
  {
   "cell_type": "code",
   "execution_count": 97,
   "metadata": {},
   "outputs": [],
   "source": [
    "ridge_results = pd.DataFrame(ridge_grid_search.cv_results_)\n",
    "\n",
    "#replace -mse with +mse\n",
    "ridge_results[['split0_test_score', 'split1_test_score', 'split2_test_score',\n",
    "       'split3_test_score', 'split4_test_score', 'mean_test_score']] =\\\n",
    "ridge_results[['split0_test_score', 'split1_test_score', 'split2_test_score',\n",
    "       'split3_test_score', 'split4_test_score', 'mean_test_score']] * -1.0\n",
    "\n",
    "#add label to pull merge data later\n",
    "ridge_results['Model Type'] = 'Ridge Regression'\n",
    "ridge_results['Training Data'] = 'Full Dataset'"
   ]
  },
  {
   "cell_type": "code",
   "execution_count": 103,
   "metadata": {},
   "outputs": [],
   "source": [
    "#write to csv to save results\n",
    "ridge_results.to_csv('results/ridge_results_all_vars.csv', index = False)"
   ]
  },
  {
   "cell_type": "markdown",
   "metadata": {},
   "source": [
    "# Lasso Regression\n",
    "https://scikit-learn.org/stable/modules/generated/sklearn.linear_model.Lasso.html#sklearn.linear_model.Lasso"
   ]
  },
  {
   "cell_type": "code",
   "execution_count": 99,
   "metadata": {},
   "outputs": [],
   "source": [
    "from sklearn.linear_model import Lasso\n",
    "\n",
    "lasso = Lasso()\n",
    "\n",
    "lasso_param_grid = [\n",
    "  {'alpha': [.001, .01, .1, 1, 10]}\n",
    "]\n",
    "\n",
    "lasso_grid_search = GridSearchCV(lasso, lasso_param_grid, \n",
    "                                verbose = 2, \n",
    "                                n_jobs = -1, \n",
    "                                scoring = 'neg_root_mean_squared_error')"
   ]
  },
  {
   "cell_type": "code",
   "execution_count": 100,
   "metadata": {},
   "outputs": [
    {
     "name": "stdout",
     "output_type": "stream",
     "text": [
      "Fitting 5 folds for each of 5 candidates, totalling 25 fits\n"
     ]
    },
    {
     "data": {
      "text/plain": [
       "GridSearchCV(estimator=Lasso(), n_jobs=-1,\n",
       "             param_grid=[{'alpha': [0.001, 0.01, 0.1, 1, 10]}],\n",
       "             scoring='neg_root_mean_squared_error', verbose=2)"
      ]
     },
     "execution_count": 100,
     "metadata": {},
     "output_type": "execute_result"
    }
   ],
   "source": [
    "#Full dataset with lasso - will self select features\n",
    "lasso_grid_search.fit(X, y)"
   ]
  },
  {
   "cell_type": "code",
   "execution_count": 101,
   "metadata": {},
   "outputs": [],
   "source": [
    "lasso_results = pd.DataFrame(lasso_grid_search.cv_results_)\n",
    "\n",
    "#replace -mse with +mse\n",
    "lasso_results[['split0_test_score', 'split1_test_score', 'split2_test_score',\n",
    "       'split3_test_score', 'split4_test_score', 'mean_test_score']] =\\\n",
    "lasso_results[['split0_test_score', 'split1_test_score', 'split2_test_score',\n",
    "       'split3_test_score', 'split4_test_score', 'mean_test_score']] * -1.0\n",
    "\n",
    "#add label to pull merge data later\n",
    "lasso_results['Model Type'] = 'Lasso Regression'\n",
    "lasso_results['Training Data'] = 'Full Dataset'"
   ]
  },
  {
   "cell_type": "code",
   "execution_count": 104,
   "metadata": {},
   "outputs": [],
   "source": [
    "#write to csv to save results\n",
    "lasso_results.to_csv('results/lasso_results_all_vars.csv', index = False)"
   ]
  },
  {
   "cell_type": "markdown",
   "metadata": {},
   "source": [
    "# Elastic Net"
   ]
  },
  {
   "cell_type": "code",
   "execution_count": null,
   "metadata": {},
   "outputs": [],
   "source": []
  },
  {
   "cell_type": "markdown",
   "metadata": {},
   "source": [
    "# Notes\n",
    "\n",
    "Once we come up with best performing model, can grab the best estimator from all the training.\n",
    "\n",
    "Train the model on all previous season data.  Apply a scaling factor where appropriate on current season data, then predict on it.  \n",
    "\n",
    "Inaccuracies aren't exactly *wrong*.  We can consider the results what a player is actually worth.  Doing some testing on the simple models, Steph Curry in 2019 was worst prediction.  Something like 30M difference.  But that season he was hurt and only played 5 games.  So maybe he wasn't worth his 40M contract?  \n",
    "\n",
    "Anyway we can see what our model thinks a player is worth, highlight some highs and lows.  Then do a groupby on teams and do the same.  "
   ]
  },
  {
   "cell_type": "code",
   "execution_count": null,
   "metadata": {},
   "outputs": [],
   "source": []
  }
 ],
 "metadata": {
  "interpreter": {
   "hash": "7db072334cd235532efed8ba6391072d8ff0e81ff473316a8174440cce5fe44b"
  },
  "kernelspec": {
   "display_name": "Python 3.8.12 ('DMSL')",
   "language": "python",
   "name": "python3"
  },
  "language_info": {
   "codemirror_mode": {
    "name": "ipython",
    "version": 3
   },
   "file_extension": ".py",
   "mimetype": "text/x-python",
   "name": "python",
   "nbconvert_exporter": "python",
   "pygments_lexer": "ipython3",
   "version": "3.8.12"
  },
  "orig_nbformat": 4
 },
 "nbformat": 4,
 "nbformat_minor": 2
}
