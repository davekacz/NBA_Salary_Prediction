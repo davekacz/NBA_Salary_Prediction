{
 "cells": [
  {
   "cell_type": "code",
   "execution_count": 234,
   "metadata": {},
   "outputs": [],
   "source": [
    "import pandas as pd\n",
    "import numpy as np\n",
    "\n",
    "import plotly.express as px\n",
    "from scipy.special import inv_boxcox"
   ]
  },
  {
   "cell_type": "markdown",
   "metadata": {},
   "source": [
    "# Load the data"
   ]
  },
  {
   "cell_type": "code",
   "execution_count": 235,
   "metadata": {},
   "outputs": [],
   "source": [
    "df = pd.read_csv('data/NBA_Player_Dataset-2013-2021.csv')\n",
    "\n",
    "box_cox_transformer = 0.16106145323461019 #need to pull from data_prep.ipynb"
   ]
  },
  {
   "cell_type": "code",
   "execution_count": 236,
   "metadata": {},
   "outputs": [],
   "source": [
    "#Can be used to filter out earlier years\n",
    "#df = df[~df['Year'].isin([2013, 2014, 2015])]"
   ]
  },
  {
   "cell_type": "markdown",
   "metadata": {},
   "source": [
    "# Scale the data"
   ]
  },
  {
   "cell_type": "code",
   "execution_count": 237,
   "metadata": {},
   "outputs": [
    {
     "data": {
      "text/plain": [
       "Index(['Year', 'FULL NAME', 'TEAM', 'POS', 'AGE', 'GP', 'MPG', 'MIN%', 'USG%',\n",
       "       'FTA', 'FT%', '2PA', '2P%', '3PA', '3P%', 'eFG%', 'TS%', 'PPG', 'RPG',\n",
       "       'TRB%', 'APG', 'AST%', 'SPG', 'BPG', 'VI', 'ORTG', 'DRTG',\n",
       "       'TO_100_Games', 'Salary', 'Cap Maximum', 'Salary%OfCap', 'Traded',\n",
       "       'Center', 'Forward', 'Guard', 'Salary_Scaled', 'Salary_BoxCox',\n",
       "       'Salary_Scaled_BoxCox'],\n",
       "      dtype='object')"
      ]
     },
     "execution_count": 237,
     "metadata": {},
     "output_type": "execute_result"
    }
   ],
   "source": [
    "df.columns"
   ]
  },
  {
   "cell_type": "code",
   "execution_count": 238,
   "metadata": {},
   "outputs": [],
   "source": [
    "#variables we need to scale\n",
    "\n",
    "x_to_scale = df[['AGE', 'GP', 'MPG', 'MIN%', 'USG%',\n",
    "       'FTA', 'FT%', '2PA', '2P%', '3PA', '3P%', 'eFG%', 'TS%', 'PPG', 'RPG',\n",
    "       'TRB%', 'APG', 'AST%', 'SPG', 'BPG', 'VI', 'TO_100_Games']]"
   ]
  },
  {
   "cell_type": "code",
   "execution_count": 239,
   "metadata": {},
   "outputs": [],
   "source": [
    "#scaler function\n",
    "from sklearn.preprocessing import StandardScaler\n",
    "\n",
    "scaler = StandardScaler()\n",
    "scaler.fit(x_to_scale)\n",
    "\n",
    "x_scaled = scaler.transform(x_to_scale)\n",
    "\n",
    "x_scaled_df = pd.DataFrame(x_scaled, columns = x_to_scale.columns)"
   ]
  },
  {
   "cell_type": "code",
   "execution_count": 240,
   "metadata": {},
   "outputs": [
    {
     "data": {
      "text/html": [
       "<div>\n",
       "<style scoped>\n",
       "    .dataframe tbody tr th:only-of-type {\n",
       "        vertical-align: middle;\n",
       "    }\n",
       "\n",
       "    .dataframe tbody tr th {\n",
       "        vertical-align: top;\n",
       "    }\n",
       "\n",
       "    .dataframe thead th {\n",
       "        text-align: right;\n",
       "    }\n",
       "</style>\n",
       "<table border=\"1\" class=\"dataframe\">\n",
       "  <thead>\n",
       "    <tr style=\"text-align: right;\">\n",
       "      <th></th>\n",
       "      <th>AGE</th>\n",
       "      <th>GP</th>\n",
       "      <th>MPG</th>\n",
       "      <th>MIN%</th>\n",
       "      <th>USG%</th>\n",
       "      <th>FTA</th>\n",
       "      <th>FT%</th>\n",
       "      <th>2PA</th>\n",
       "      <th>2P%</th>\n",
       "      <th>3PA</th>\n",
       "      <th>...</th>\n",
       "      <th>TS%</th>\n",
       "      <th>PPG</th>\n",
       "      <th>RPG</th>\n",
       "      <th>TRB%</th>\n",
       "      <th>APG</th>\n",
       "      <th>AST%</th>\n",
       "      <th>SPG</th>\n",
       "      <th>BPG</th>\n",
       "      <th>VI</th>\n",
       "      <th>TO_100_Games</th>\n",
       "    </tr>\n",
       "  </thead>\n",
       "  <tbody>\n",
       "    <tr>\n",
       "      <th>0</th>\n",
       "      <td>1.054938</td>\n",
       "      <td>0.482581</td>\n",
       "      <td>1.246624</td>\n",
       "      <td>1.249235</td>\n",
       "      <td>1.006838</td>\n",
       "      <td>1.273851</td>\n",
       "      <td>0.917979</td>\n",
       "      <td>0.808159</td>\n",
       "      <td>0.245669</td>\n",
       "      <td>1.166583</td>\n",
       "      <td>...</td>\n",
       "      <td>0.789723</td>\n",
       "      <td>1.547901</td>\n",
       "      <td>0.546992</td>\n",
       "      <td>-0.257996</td>\n",
       "      <td>4.043414</td>\n",
       "      <td>3.665499</td>\n",
       "      <td>3.171747</td>\n",
       "      <td>-0.651949</td>\n",
       "      <td>2.259476</td>\n",
       "      <td>0.178108</td>\n",
       "    </tr>\n",
       "    <tr>\n",
       "      <th>1</th>\n",
       "      <td>-0.783816</td>\n",
       "      <td>-1.268083</td>\n",
       "      <td>-0.180363</td>\n",
       "      <td>-0.172433</td>\n",
       "      <td>0.394914</td>\n",
       "      <td>-0.644776</td>\n",
       "      <td>0.148347</td>\n",
       "      <td>-0.722653</td>\n",
       "      <td>-0.567050</td>\n",
       "      <td>-0.642869</td>\n",
       "      <td>...</td>\n",
       "      <td>-0.274237</td>\n",
       "      <td>-0.179525</td>\n",
       "      <td>-0.789344</td>\n",
       "      <td>-0.935353</td>\n",
       "      <td>-0.554199</td>\n",
       "      <td>-0.596403</td>\n",
       "      <td>-0.175151</td>\n",
       "      <td>-0.436866</td>\n",
       "      <td>-0.732954</td>\n",
       "      <td>-0.095976</td>\n",
       "    </tr>\n",
       "    <tr>\n",
       "      <th>2</th>\n",
       "      <td>0.345907</td>\n",
       "      <td>0.930425</td>\n",
       "      <td>0.316920</td>\n",
       "      <td>0.299727</td>\n",
       "      <td>0.272529</td>\n",
       "      <td>0.214435</td>\n",
       "      <td>1.150321</td>\n",
       "      <td>0.498943</td>\n",
       "      <td>-0.306664</td>\n",
       "      <td>0.310201</td>\n",
       "      <td>...</td>\n",
       "      <td>0.012569</td>\n",
       "      <td>0.130108</td>\n",
       "      <td>-0.708354</td>\n",
       "      <td>-1.032118</td>\n",
       "      <td>0.775231</td>\n",
       "      <td>1.023554</td>\n",
       "      <td>-0.080204</td>\n",
       "      <td>-0.723643</td>\n",
       "      <td>0.079277</td>\n",
       "      <td>0.016882</td>\n",
       "    </tr>\n",
       "    <tr>\n",
       "      <th>3</th>\n",
       "      <td>-1.067428</td>\n",
       "      <td>-0.168829</td>\n",
       "      <td>-0.104690</td>\n",
       "      <td>-0.104981</td>\n",
       "      <td>0.202595</td>\n",
       "      <td>-0.160948</td>\n",
       "      <td>0.276619</td>\n",
       "      <td>-0.337087</td>\n",
       "      <td>1.022880</td>\n",
       "      <td>-0.235397</td>\n",
       "      <td>...</td>\n",
       "      <td>0.729586</td>\n",
       "      <td>0.178997</td>\n",
       "      <td>1.134170</td>\n",
       "      <td>1.677307</td>\n",
       "      <td>-0.720378</td>\n",
       "      <td>-0.966058</td>\n",
       "      <td>-0.804178</td>\n",
       "      <td>0.901426</td>\n",
       "      <td>-0.027596</td>\n",
       "      <td>-0.418428</td>\n",
       "    </tr>\n",
       "    <tr>\n",
       "      <th>4</th>\n",
       "      <td>-0.367851</td>\n",
       "      <td>-0.535247</td>\n",
       "      <td>-1.277630</td>\n",
       "      <td>-1.272409</td>\n",
       "      <td>-0.828935</td>\n",
       "      <td>-0.628092</td>\n",
       "      <td>-0.202586</td>\n",
       "      <td>-0.741740</td>\n",
       "      <td>1.780366</td>\n",
       "      <td>-0.815526</td>\n",
       "      <td>...</td>\n",
       "      <td>1.784295</td>\n",
       "      <td>-0.912867</td>\n",
       "      <td>-0.445136</td>\n",
       "      <td>1.174128</td>\n",
       "      <td>-0.720378</td>\n",
       "      <td>-0.324598</td>\n",
       "      <td>-1.053415</td>\n",
       "      <td>-0.711694</td>\n",
       "      <td>0.635014</td>\n",
       "      <td>0.823012</td>\n",
       "    </tr>\n",
       "    <tr>\n",
       "      <th>...</th>\n",
       "      <td>...</td>\n",
       "      <td>...</td>\n",
       "      <td>...</td>\n",
       "      <td>...</td>\n",
       "      <td>...</td>\n",
       "      <td>...</td>\n",
       "      <td>...</td>\n",
       "      <td>...</td>\n",
       "      <td>...</td>\n",
       "      <td>...</td>\n",
       "      <td>...</td>\n",
       "      <td>...</td>\n",
       "      <td>...</td>\n",
       "      <td>...</td>\n",
       "      <td>...</td>\n",
       "      <td>...</td>\n",
       "      <td>...</td>\n",
       "      <td>...</td>\n",
       "      <td>...</td>\n",
       "      <td>...</td>\n",
       "      <td>...</td>\n",
       "    </tr>\n",
       "    <tr>\n",
       "      <th>4205</th>\n",
       "      <td>-0.363124</td>\n",
       "      <td>1.011851</td>\n",
       "      <td>1.452024</td>\n",
       "      <td>1.461966</td>\n",
       "      <td>2.178236</td>\n",
       "      <td>3.551179</td>\n",
       "      <td>0.859894</td>\n",
       "      <td>2.495487</td>\n",
       "      <td>0.332464</td>\n",
       "      <td>1.753619</td>\n",
       "      <td>...</td>\n",
       "      <td>0.752716</td>\n",
       "      <td>2.753840</td>\n",
       "      <td>0.870952</td>\n",
       "      <td>-0.064466</td>\n",
       "      <td>0.886017</td>\n",
       "      <td>0.632155</td>\n",
       "      <td>2.768220</td>\n",
       "      <td>0.805834</td>\n",
       "      <td>1.276249</td>\n",
       "      <td>-0.611899</td>\n",
       "    </tr>\n",
       "    <tr>\n",
       "      <th>4206</th>\n",
       "      <td>-0.363124</td>\n",
       "      <td>-1.064517</td>\n",
       "      <td>-1.115473</td>\n",
       "      <td>-1.111563</td>\n",
       "      <td>-0.339395</td>\n",
       "      <td>-0.819955</td>\n",
       "      <td>-1.381236</td>\n",
       "      <td>-0.848630</td>\n",
       "      <td>0.056297</td>\n",
       "      <td>-0.746463</td>\n",
       "      <td>...</td>\n",
       "      <td>-0.801592</td>\n",
       "      <td>-0.912867</td>\n",
       "      <td>-0.688106</td>\n",
       "      <td>0.158094</td>\n",
       "      <td>-0.526503</td>\n",
       "      <td>0.061365</td>\n",
       "      <td>-0.780441</td>\n",
       "      <td>-0.651949</td>\n",
       "      <td>0.271647</td>\n",
       "      <td>-0.757002</td>\n",
       "    </tr>\n",
       "    <tr>\n",
       "      <th>4207</th>\n",
       "      <td>-1.213961</td>\n",
       "      <td>-1.064517</td>\n",
       "      <td>-1.369520</td>\n",
       "      <td>-1.365803</td>\n",
       "      <td>-0.426813</td>\n",
       "      <td>-0.794930</td>\n",
       "      <td>0.230635</td>\n",
       "      <td>-0.871534</td>\n",
       "      <td>1.665954</td>\n",
       "      <td>-0.891495</td>\n",
       "      <td>...</td>\n",
       "      <td>1.215308</td>\n",
       "      <td>-0.912867</td>\n",
       "      <td>-0.384393</td>\n",
       "      <td>2.006309</td>\n",
       "      <td>-0.886557</td>\n",
       "      <td>-0.694253</td>\n",
       "      <td>-0.982204</td>\n",
       "      <td>0.805834</td>\n",
       "      <td>0.335771</td>\n",
       "      <td>0.065250</td>\n",
       "    </tr>\n",
       "    <tr>\n",
       "      <th>4208</th>\n",
       "      <td>0.109564</td>\n",
       "      <td>0.441868</td>\n",
       "      <td>0.479078</td>\n",
       "      <td>0.481327</td>\n",
       "      <td>0.290013</td>\n",
       "      <td>0.439666</td>\n",
       "      <td>0.985746</td>\n",
       "      <td>0.193544</td>\n",
       "      <td>-0.211979</td>\n",
       "      <td>0.545016</td>\n",
       "      <td>...</td>\n",
       "      <td>0.179102</td>\n",
       "      <td>0.407148</td>\n",
       "      <td>-0.789344</td>\n",
       "      <td>-1.206295</td>\n",
       "      <td>-0.332627</td>\n",
       "      <td>-0.465937</td>\n",
       "      <td>0.821797</td>\n",
       "      <td>-0.723643</td>\n",
       "      <td>-0.775703</td>\n",
       "      <td>-0.692512</td>\n",
       "    </tr>\n",
       "    <tr>\n",
       "      <th>4209</th>\n",
       "      <td>-0.599468</td>\n",
       "      <td>1.093278</td>\n",
       "      <td>1.560129</td>\n",
       "      <td>1.570926</td>\n",
       "      <td>1.408960</td>\n",
       "      <td>2.958907</td>\n",
       "      <td>0.530743</td>\n",
       "      <td>1.854150</td>\n",
       "      <td>-0.046279</td>\n",
       "      <td>1.359959</td>\n",
       "      <td>...</td>\n",
       "      <td>0.354887</td>\n",
       "      <td>1.743459</td>\n",
       "      <td>0.506497</td>\n",
       "      <td>-0.374115</td>\n",
       "      <td>1.218375</td>\n",
       "      <td>0.947449</td>\n",
       "      <td>1.866219</td>\n",
       "      <td>-0.030599</td>\n",
       "      <td>0.806010</td>\n",
       "      <td>0.145863</td>\n",
       "    </tr>\n",
       "  </tbody>\n",
       "</table>\n",
       "<p>4210 rows × 22 columns</p>\n",
       "</div>"
      ],
      "text/plain": [
       "           AGE        GP       MPG      MIN%      USG%       FTA       FT%  \\\n",
       "0     1.054938  0.482581  1.246624  1.249235  1.006838  1.273851  0.917979   \n",
       "1    -0.783816 -1.268083 -0.180363 -0.172433  0.394914 -0.644776  0.148347   \n",
       "2     0.345907  0.930425  0.316920  0.299727  0.272529  0.214435  1.150321   \n",
       "3    -1.067428 -0.168829 -0.104690 -0.104981  0.202595 -0.160948  0.276619   \n",
       "4    -0.367851 -0.535247 -1.277630 -1.272409 -0.828935 -0.628092 -0.202586   \n",
       "...        ...       ...       ...       ...       ...       ...       ...   \n",
       "4205 -0.363124  1.011851  1.452024  1.461966  2.178236  3.551179  0.859894   \n",
       "4206 -0.363124 -1.064517 -1.115473 -1.111563 -0.339395 -0.819955 -1.381236   \n",
       "4207 -1.213961 -1.064517 -1.369520 -1.365803 -0.426813 -0.794930  0.230635   \n",
       "4208  0.109564  0.441868  0.479078  0.481327  0.290013  0.439666  0.985746   \n",
       "4209 -0.599468  1.093278  1.560129  1.570926  1.408960  2.958907  0.530743   \n",
       "\n",
       "           2PA       2P%       3PA  ...       TS%       PPG       RPG  \\\n",
       "0     0.808159  0.245669  1.166583  ...  0.789723  1.547901  0.546992   \n",
       "1    -0.722653 -0.567050 -0.642869  ... -0.274237 -0.179525 -0.789344   \n",
       "2     0.498943 -0.306664  0.310201  ...  0.012569  0.130108 -0.708354   \n",
       "3    -0.337087  1.022880 -0.235397  ...  0.729586  0.178997  1.134170   \n",
       "4    -0.741740  1.780366 -0.815526  ...  1.784295 -0.912867 -0.445136   \n",
       "...        ...       ...       ...  ...       ...       ...       ...   \n",
       "4205  2.495487  0.332464  1.753619  ...  0.752716  2.753840  0.870952   \n",
       "4206 -0.848630  0.056297 -0.746463  ... -0.801592 -0.912867 -0.688106   \n",
       "4207 -0.871534  1.665954 -0.891495  ...  1.215308 -0.912867 -0.384393   \n",
       "4208  0.193544 -0.211979  0.545016  ...  0.179102  0.407148 -0.789344   \n",
       "4209  1.854150 -0.046279  1.359959  ...  0.354887  1.743459  0.506497   \n",
       "\n",
       "          TRB%       APG      AST%       SPG       BPG        VI  TO_100_Games  \n",
       "0    -0.257996  4.043414  3.665499  3.171747 -0.651949  2.259476      0.178108  \n",
       "1    -0.935353 -0.554199 -0.596403 -0.175151 -0.436866 -0.732954     -0.095976  \n",
       "2    -1.032118  0.775231  1.023554 -0.080204 -0.723643  0.079277      0.016882  \n",
       "3     1.677307 -0.720378 -0.966058 -0.804178  0.901426 -0.027596     -0.418428  \n",
       "4     1.174128 -0.720378 -0.324598 -1.053415 -0.711694  0.635014      0.823012  \n",
       "...        ...       ...       ...       ...       ...       ...           ...  \n",
       "4205 -0.064466  0.886017  0.632155  2.768220  0.805834  1.276249     -0.611899  \n",
       "4206  0.158094 -0.526503  0.061365 -0.780441 -0.651949  0.271647     -0.757002  \n",
       "4207  2.006309 -0.886557 -0.694253 -0.982204  0.805834  0.335771      0.065250  \n",
       "4208 -1.206295 -0.332627 -0.465937  0.821797 -0.723643 -0.775703     -0.692512  \n",
       "4209 -0.374115  1.218375  0.947449  1.866219 -0.030599  0.806010      0.145863  \n",
       "\n",
       "[4210 rows x 22 columns]"
      ]
     },
     "execution_count": 240,
     "metadata": {},
     "output_type": "execute_result"
    }
   ],
   "source": [
    "x_scaled_df"
   ]
  },
  {
   "cell_type": "code",
   "execution_count": 241,
   "metadata": {},
   "outputs": [],
   "source": [
    "#add the categorical features to scaled features for input\n",
    "X = pd.concat([x_scaled_df, df[['Center', 'Forward', 'Guard']]], axis = 1)\n",
    "\n",
    "#choose our target variable\n",
    "#y = df['Salary']\n",
    "y = df['Salary_BoxCox']"
   ]
  },
  {
   "cell_type": "markdown",
   "metadata": {},
   "source": [
    "# Feature Selection\n",
    "SelectKBest\n",
    "https://scikit-learn.org/stable/modules/generated/sklearn.feature_selection.SelectKBest.html\n",
    "\n",
    "### Scorer for regression\n",
    "https://scikit-learn.org/stable/modules/generated/sklearn.feature_selection.f_regression.html#sklearn.feature_selection.f_regression"
   ]
  },
  {
   "cell_type": "code",
   "execution_count": 242,
   "metadata": {},
   "outputs": [],
   "source": [
    "#remove highly correlated variables first from data explore correlation section\n",
    "\n",
    "X_subset = X.drop(['MIN%', 'FTA', 'MPG', 'AST%', 'PPG'], axis = 1)"
   ]
  },
  {
   "cell_type": "code",
   "execution_count": 243,
   "metadata": {},
   "outputs": [],
   "source": [
    "#Use SelectKbest and f_regression for variable score\n",
    "\n",
    "from sklearn.feature_selection import SelectKBest, f_regression\n",
    "\n",
    "selectKBest = SelectKBest(f_regression, k=6)\n",
    "\n",
    "selectKBest.fit(X_subset, y)\n",
    "\n",
    "X_best_features = selectKBest.transform(X_subset)\n",
    "x_best_feature_names = selectKBest.get_feature_names_out()"
   ]
  },
  {
   "cell_type": "code",
   "execution_count": 244,
   "metadata": {},
   "outputs": [
    {
     "data": {
      "text/html": [
       "<div>\n",
       "<style scoped>\n",
       "    .dataframe tbody tr th:only-of-type {\n",
       "        vertical-align: middle;\n",
       "    }\n",
       "\n",
       "    .dataframe tbody tr th {\n",
       "        vertical-align: top;\n",
       "    }\n",
       "\n",
       "    .dataframe thead th {\n",
       "        text-align: right;\n",
       "    }\n",
       "</style>\n",
       "<table border=\"1\" class=\"dataframe\">\n",
       "  <thead>\n",
       "    <tr style=\"text-align: right;\">\n",
       "      <th></th>\n",
       "      <th>GP</th>\n",
       "      <th>2PA</th>\n",
       "      <th>RPG</th>\n",
       "      <th>APG</th>\n",
       "      <th>SPG</th>\n",
       "      <th>VI</th>\n",
       "    </tr>\n",
       "  </thead>\n",
       "  <tbody>\n",
       "    <tr>\n",
       "      <th>0</th>\n",
       "      <td>0.482581</td>\n",
       "      <td>0.808159</td>\n",
       "      <td>0.546992</td>\n",
       "      <td>4.043414</td>\n",
       "      <td>3.171747</td>\n",
       "      <td>2.259476</td>\n",
       "    </tr>\n",
       "    <tr>\n",
       "      <th>1</th>\n",
       "      <td>-1.268083</td>\n",
       "      <td>-0.722653</td>\n",
       "      <td>-0.789344</td>\n",
       "      <td>-0.554199</td>\n",
       "      <td>-0.175151</td>\n",
       "      <td>-0.732954</td>\n",
       "    </tr>\n",
       "    <tr>\n",
       "      <th>2</th>\n",
       "      <td>0.930425</td>\n",
       "      <td>0.498943</td>\n",
       "      <td>-0.708354</td>\n",
       "      <td>0.775231</td>\n",
       "      <td>-0.080204</td>\n",
       "      <td>0.079277</td>\n",
       "    </tr>\n",
       "    <tr>\n",
       "      <th>3</th>\n",
       "      <td>-0.168829</td>\n",
       "      <td>-0.337087</td>\n",
       "      <td>1.134170</td>\n",
       "      <td>-0.720378</td>\n",
       "      <td>-0.804178</td>\n",
       "      <td>-0.027596</td>\n",
       "    </tr>\n",
       "    <tr>\n",
       "      <th>4</th>\n",
       "      <td>-0.535247</td>\n",
       "      <td>-0.741740</td>\n",
       "      <td>-0.445136</td>\n",
       "      <td>-0.720378</td>\n",
       "      <td>-1.053415</td>\n",
       "      <td>0.635014</td>\n",
       "    </tr>\n",
       "  </tbody>\n",
       "</table>\n",
       "</div>"
      ],
      "text/plain": [
       "         GP       2PA       RPG       APG       SPG        VI\n",
       "0  0.482581  0.808159  0.546992  4.043414  3.171747  2.259476\n",
       "1 -1.268083 -0.722653 -0.789344 -0.554199 -0.175151 -0.732954\n",
       "2  0.930425  0.498943 -0.708354  0.775231 -0.080204  0.079277\n",
       "3 -0.168829 -0.337087  1.134170 -0.720378 -0.804178 -0.027596\n",
       "4 -0.535247 -0.741740 -0.445136 -0.720378 -1.053415  0.635014"
      ]
     },
     "execution_count": 244,
     "metadata": {},
     "output_type": "execute_result"
    }
   ],
   "source": [
    "X_best_features_df = pd.DataFrame(X_best_features, columns = x_best_feature_names)\n",
    "X_best_features_df.head()"
   ]
  },
  {
   "cell_type": "markdown",
   "metadata": {},
   "source": [
    "# Grid Search CV\n",
    "\n",
    "https://scikit-learn.org/stable/modules/generated/sklearn.model_selection.GridSearchCV.html\n",
    "\n",
    "https://scikit-learn.org/stable/modules/grid_search.html"
   ]
  },
  {
   "cell_type": "markdown",
   "metadata": {},
   "source": [
    "# Random Forest"
   ]
  },
  {
   "cell_type": "code",
   "execution_count": 245,
   "metadata": {},
   "outputs": [],
   "source": [
    "from sklearn.model_selection import GridSearchCV\n",
    "from sklearn.ensemble import RandomForestRegressor\n",
    "\n",
    "#call the model you want to use, define any parameters you want to hold steady across the search\n",
    "random_forest = RandomForestRegressor(verbose = 1)\n",
    "\n",
    "#Create a search grid of parameters\n",
    "rf_param_grid = [\n",
    "  {'n_estimators': [100, 250], 'max_depth': [10, 25], 'max_features': [5, 10, 20]},\n",
    " ]\n",
    "\n",
    "#Create grid search\n",
    "rf_gridsearch = GridSearchCV(random_forest, rf_param_grid, \n",
    "                            scoring = 'neg_root_mean_squared_error', \n",
    "                            verbose = 2, \n",
    "                            n_jobs = -1)\n",
    "\n",
    "#grid search maximizes, so scorer needs to be negative in this case.  Real MSE is just the positive version"
   ]
  },
  {
   "cell_type": "code",
   "execution_count": 246,
   "metadata": {},
   "outputs": [
    {
     "name": "stdout",
     "output_type": "stream",
     "text": [
      "Fitting 5 folds for each of 12 candidates, totalling 60 fits\n"
     ]
    },
    {
     "name": "stderr",
     "output_type": "stream",
     "text": [
      "[Parallel(n_jobs=1)]: Using backend SequentialBackend with 1 concurrent workers.\n",
      "[Parallel(n_jobs=1)]: Done 250 out of 250 | elapsed:    5.5s finished\n"
     ]
    },
    {
     "data": {
      "text/plain": [
       "GridSearchCV(estimator=RandomForestRegressor(verbose=1), n_jobs=-1,\n",
       "             param_grid=[{'max_depth': [10, 25], 'max_features': [5, 10, 20],\n",
       "                          'n_estimators': [100, 250]}],\n",
       "             scoring='neg_root_mean_squared_error', verbose=2)"
      ]
     },
     "execution_count": 246,
     "metadata": {},
     "output_type": "execute_result"
    }
   ],
   "source": [
    "#Utilize full dataset for random forest\n",
    "rf_gridsearch.fit(X, y)"
   ]
  },
  {
   "cell_type": "code",
   "execution_count": 247,
   "metadata": {},
   "outputs": [],
   "source": [
    "random_forest_results = pd.DataFrame(rf_gridsearch.cv_results_)\n",
    "\n",
    "#replace -mse with +mse\n",
    "random_forest_results[['split0_test_score', 'split1_test_score', 'split2_test_score',\n",
    "       'split3_test_score', 'split4_test_score', 'mean_test_score']] = random_forest_results[['split0_test_score', 'split1_test_score', 'split2_test_score',\n",
    "       'split3_test_score', 'split4_test_score', 'mean_test_score']] * -1.0\n",
    "\n",
    "#add label to pull merge data later\n",
    "random_forest_results['Model Type'] = 'Random Forest'\n",
    "random_forest_results['Training Data'] = 'Full Dataset'"
   ]
  },
  {
   "cell_type": "code",
   "execution_count": 248,
   "metadata": {},
   "outputs": [],
   "source": [
    "#write to csv to save results\n",
    "random_forest_results.to_csv('results/rf_results_all_vars.csv', index = False)"
   ]
  },
  {
   "cell_type": "markdown",
   "metadata": {},
   "source": [
    "# KNN\n",
    "https://scikit-learn.org/stable/modules/generated/sklearn.neighbors.KNeighborsRegressor.html\n",
    "\n",
    "Will try with full and subset of X data"
   ]
  },
  {
   "cell_type": "code",
   "execution_count": 249,
   "metadata": {},
   "outputs": [],
   "source": [
    "from sklearn.neighbors import KNeighborsRegressor\n",
    "\n",
    "knn = KNeighborsRegressor()\n",
    "\n",
    "knn_param_grid = [\n",
    "  {'n_neighbors': [5, 10, 20, 50], 'weights':['uniform', 'distance'], 'p': [1, 2]},\n",
    " ]\n",
    "\n",
    "knn_grid_search = GridSearchCV(knn, knn_param_grid, verbose = 2, n_jobs = -1, scoring = 'neg_root_mean_squared_error')"
   ]
  },
  {
   "cell_type": "code",
   "execution_count": 250,
   "metadata": {},
   "outputs": [
    {
     "name": "stdout",
     "output_type": "stream",
     "text": [
      "Fitting 5 folds for each of 16 candidates, totalling 80 fits\n"
     ]
    },
    {
     "data": {
      "text/plain": [
       "GridSearchCV(estimator=KNeighborsRegressor(), n_jobs=-1,\n",
       "             param_grid=[{'n_neighbors': [5, 10, 20, 50], 'p': [1, 2],\n",
       "                          'weights': ['uniform', 'distance']}],\n",
       "             scoring='neg_root_mean_squared_error', verbose=2)"
      ]
     },
     "execution_count": 250,
     "metadata": {},
     "output_type": "execute_result"
    }
   ],
   "source": [
    "#Try KNN with full\n",
    "knn_grid_search.fit(X, y)"
   ]
  },
  {
   "cell_type": "code",
   "execution_count": 251,
   "metadata": {},
   "outputs": [],
   "source": [
    "knn_results = pd.DataFrame(knn_grid_search.cv_results_)\n",
    "\n",
    "#replace -mse with +mse\n",
    "knn_results[['split0_test_score', 'split1_test_score', 'split2_test_score',\n",
    "       'split3_test_score', 'split4_test_score', 'mean_test_score']] =\\\n",
    "knn_results[['split0_test_score', 'split1_test_score', 'split2_test_score',\n",
    "       'split3_test_score', 'split4_test_score', 'mean_test_score']] * -1.0\n",
    "\n",
    "#add label to pull merge data later\n",
    "knn_results['Model Type'] = 'KNN'\n",
    "knn_results['Training Data'] = 'Full Dataset'"
   ]
  },
  {
   "cell_type": "code",
   "execution_count": 252,
   "metadata": {},
   "outputs": [],
   "source": [
    "#write to csv to save results\n",
    "knn_results.to_csv('results/knn_results_all_vars.csv', index = False)"
   ]
  },
  {
   "cell_type": "markdown",
   "metadata": {},
   "source": [
    "### KNN Subset"
   ]
  },
  {
   "cell_type": "code",
   "execution_count": 253,
   "metadata": {},
   "outputs": [
    {
     "name": "stdout",
     "output_type": "stream",
     "text": [
      "Fitting 5 folds for each of 16 candidates, totalling 80 fits\n"
     ]
    },
    {
     "data": {
      "text/plain": [
       "GridSearchCV(estimator=KNeighborsRegressor(), n_jobs=-1,\n",
       "             param_grid=[{'n_neighbors': [5, 10, 20, 50], 'p': [1, 2],\n",
       "                          'weights': ['uniform', 'distance']}],\n",
       "             scoring='neg_root_mean_squared_error', verbose=2)"
      ]
     },
     "execution_count": 253,
     "metadata": {},
     "output_type": "execute_result"
    }
   ],
   "source": [
    "#Try KNN with subset of X\n",
    "knn_grid_search.fit(X_best_features_df, y)"
   ]
  },
  {
   "cell_type": "code",
   "execution_count": 254,
   "metadata": {},
   "outputs": [],
   "source": [
    "knn_results2 = pd.DataFrame(knn_grid_search.cv_results_)\n",
    "\n",
    "#replace -mse with +mse\n",
    "knn_results2[['split0_test_score', 'split1_test_score', 'split2_test_score',\n",
    "       'split3_test_score', 'split4_test_score', 'mean_test_score']] =\\\n",
    "knn_results2[['split0_test_score', 'split1_test_score', 'split2_test_score',\n",
    "       'split3_test_score', 'split4_test_score', 'mean_test_score']] * -1.0\n",
    "\n",
    "#add label to pull merge data later\n",
    "knn_results2['Model Type'] = 'KNN'\n",
    "knn_results2['Training Data'] = 'Subset Dataset'"
   ]
  },
  {
   "cell_type": "code",
   "execution_count": 255,
   "metadata": {},
   "outputs": [],
   "source": [
    "#write to csv to save results\n",
    "knn_results2.to_csv('results/knn_results_subset_vars.csv', index = False)"
   ]
  },
  {
   "cell_type": "markdown",
   "metadata": {},
   "source": [
    "# Support Vector Machine\n",
    "https://scikit-learn.org/stable/modules/generated/sklearn.svm.SVR.html"
   ]
  },
  {
   "cell_type": "code",
   "execution_count": 256,
   "metadata": {},
   "outputs": [],
   "source": [
    "from sklearn.svm import SVR\n",
    "\n",
    "svm = SVR()\n",
    "\n",
    "svm_param_grid = [\n",
    "  {'kernel': ['linear'], 'degree': [2, 3, 4], 'C': [.001, .01, .1, 1, 10, 100, 1000]},\n",
    "  {'kernel': ['poly', 'rbf', 'sigmoid'], 'gamma': ['scale', 'auto'], 'C': [.001, .01, .1, 1, 10, 100, 1000]}\n",
    "]\n",
    "\n",
    "svm_grid_search = GridSearchCV(svm, svm_param_grid, \n",
    "                                verbose = 2, \n",
    "                                n_jobs = -1, \n",
    "                                scoring = 'neg_root_mean_squared_error')"
   ]
  },
  {
   "cell_type": "code",
   "execution_count": 257,
   "metadata": {},
   "outputs": [
    {
     "name": "stdout",
     "output_type": "stream",
     "text": [
      "Fitting 5 folds for each of 63 candidates, totalling 315 fits\n"
     ]
    },
    {
     "data": {
      "text/plain": [
       "GridSearchCV(estimator=SVR(), n_jobs=-1,\n",
       "             param_grid=[{'C': [0.001, 0.01, 0.1, 1, 10, 100, 1000],\n",
       "                          'degree': [2, 3, 4], 'kernel': ['linear']},\n",
       "                         {'C': [0.001, 0.01, 0.1, 1, 10, 100, 1000],\n",
       "                          'gamma': ['scale', 'auto'],\n",
       "                          'kernel': ['poly', 'rbf', 'sigmoid']}],\n",
       "             scoring='neg_root_mean_squared_error', verbose=2)"
      ]
     },
     "execution_count": 257,
     "metadata": {},
     "output_type": "execute_result"
    }
   ],
   "source": [
    "#Try KNN with full and subset\n",
    "svm_grid_search.fit(X, y)"
   ]
  },
  {
   "cell_type": "code",
   "execution_count": 258,
   "metadata": {},
   "outputs": [],
   "source": [
    "svm_results = pd.DataFrame(svm_grid_search.cv_results_)\n",
    "\n",
    "#replace -mse with +mse\n",
    "svm_results[['split0_test_score', 'split1_test_score', 'split2_test_score',\n",
    "       'split3_test_score', 'split4_test_score', 'mean_test_score']] =\\\n",
    "svm_results[['split0_test_score', 'split1_test_score', 'split2_test_score',\n",
    "       'split3_test_score', 'split4_test_score', 'mean_test_score']] * -1.0\n",
    "\n",
    "#add label to pull merge data later\n",
    "svm_results['Model Type'] = 'SVM'\n",
    "svm_results['Training Data'] = 'Full Dataset'"
   ]
  },
  {
   "cell_type": "code",
   "execution_count": 259,
   "metadata": {},
   "outputs": [],
   "source": [
    "#write to csv to save results\n",
    "svm_results.to_csv('results/svm_results_all_vars.csv', index = False)"
   ]
  },
  {
   "cell_type": "markdown",
   "metadata": {},
   "source": [
    "### SVM Subset X"
   ]
  },
  {
   "cell_type": "code",
   "execution_count": 260,
   "metadata": {},
   "outputs": [
    {
     "name": "stdout",
     "output_type": "stream",
     "text": [
      "Fitting 5 folds for each of 63 candidates, totalling 315 fits\n"
     ]
    },
    {
     "data": {
      "text/plain": [
       "GridSearchCV(estimator=SVR(), n_jobs=-1,\n",
       "             param_grid=[{'C': [0.001, 0.01, 0.1, 1, 10, 100, 1000],\n",
       "                          'degree': [2, 3, 4], 'kernel': ['linear']},\n",
       "                         {'C': [0.001, 0.01, 0.1, 1, 10, 100, 1000],\n",
       "                          'gamma': ['scale', 'auto'],\n",
       "                          'kernel': ['poly', 'rbf', 'sigmoid']}],\n",
       "             scoring='neg_root_mean_squared_error', verbose=2)"
      ]
     },
     "execution_count": 260,
     "metadata": {},
     "output_type": "execute_result"
    }
   ],
   "source": [
    "#Try KNN with full and subset\n",
    "svm_grid_search.fit(X_best_features_df, y)"
   ]
  },
  {
   "cell_type": "code",
   "execution_count": 261,
   "metadata": {},
   "outputs": [],
   "source": [
    "svm_results2 = pd.DataFrame(svm_grid_search.cv_results_)\n",
    "\n",
    "#replace -mse with +mse\n",
    "svm_results2[['split0_test_score', 'split1_test_score', 'split2_test_score',\n",
    "       'split3_test_score', 'split4_test_score', 'mean_test_score']] =\\\n",
    "svm_results2[['split0_test_score', 'split1_test_score', 'split2_test_score',\n",
    "       'split3_test_score', 'split4_test_score', 'mean_test_score']] * -1.0\n",
    "\n",
    "#add label to pull merge data later\n",
    "svm_results2['Model Type'] = 'SVM'\n",
    "svm_results2['Training Data'] = 'Subset Dataset'"
   ]
  },
  {
   "cell_type": "code",
   "execution_count": 262,
   "metadata": {},
   "outputs": [],
   "source": [
    "#write to csv to save results\n",
    "svm_results2.to_csv('results/svm_results_subset_vars.csv', index = False)"
   ]
  },
  {
   "cell_type": "markdown",
   "metadata": {},
   "source": [
    "# Linear Regression (OLS)\n",
    "https://scikit-learn.org/stable/modules/generated/sklearn.linear_model.LinearRegression.html"
   ]
  },
  {
   "cell_type": "code",
   "execution_count": 263,
   "metadata": {},
   "outputs": [],
   "source": [
    "from sklearn.linear_model import LinearRegression\n",
    "\n",
    "linreg = LinearRegression()\n",
    "\n",
    "linreg_param_grid = [\n",
    "  {'fit_intercept': [True]}\n",
    "]\n",
    "\n",
    "linreg_grid_search = GridSearchCV(linreg, linreg_param_grid, \n",
    "                                verbose = 2, \n",
    "                                n_jobs = -1, \n",
    "                                scoring = 'neg_root_mean_squared_error')"
   ]
  },
  {
   "cell_type": "code",
   "execution_count": 264,
   "metadata": {},
   "outputs": [
    {
     "name": "stdout",
     "output_type": "stream",
     "text": [
      "Fitting 5 folds for each of 1 candidates, totalling 5 fits\n"
     ]
    },
    {
     "data": {
      "text/plain": [
       "GridSearchCV(estimator=LinearRegression(), n_jobs=-1,\n",
       "             param_grid=[{'fit_intercept': [True]}],\n",
       "             scoring='neg_root_mean_squared_error', verbose=2)"
      ]
     },
     "execution_count": 264,
     "metadata": {},
     "output_type": "execute_result"
    }
   ],
   "source": [
    "#Linear Regression with subset dataset\n",
    "linreg_grid_search.fit(X_best_features_df, y)"
   ]
  },
  {
   "cell_type": "code",
   "execution_count": 265,
   "metadata": {},
   "outputs": [],
   "source": [
    "linreg_results = pd.DataFrame(linreg_grid_search.cv_results_)\n",
    "\n",
    "#replace -mse with +mse\n",
    "linreg_results[['split0_test_score', 'split1_test_score', 'split2_test_score',\n",
    "       'split3_test_score', 'split4_test_score', 'mean_test_score']] =\\\n",
    "linreg_results[['split0_test_score', 'split1_test_score', 'split2_test_score',\n",
    "       'split3_test_score', 'split4_test_score', 'mean_test_score']] * -1.0\n",
    "\n",
    "#add label to pull merge data later\n",
    "linreg_results['Model Type'] = 'Linear Regression'\n",
    "linreg_results['Training Data'] = 'Subset Dataset'"
   ]
  },
  {
   "cell_type": "code",
   "execution_count": 266,
   "metadata": {},
   "outputs": [],
   "source": [
    "#write to csv to save results\n",
    "linreg_results.to_csv('results/linreg_results_subset_vars.csv', index = False)"
   ]
  },
  {
   "cell_type": "markdown",
   "metadata": {},
   "source": [
    "# Ridge Regression"
   ]
  },
  {
   "cell_type": "code",
   "execution_count": 267,
   "metadata": {},
   "outputs": [],
   "source": [
    "from sklearn.linear_model import Ridge\n",
    "\n",
    "ridge = Ridge()\n",
    "\n",
    "ridge_param_grid = [\n",
    "  {'alpha': [.001, .01, .1, 1, 10]}\n",
    "]\n",
    "\n",
    "ridge_grid_search = GridSearchCV(ridge, ridge_param_grid, \n",
    "                                verbose = 2, \n",
    "                                n_jobs = -1, \n",
    "                                scoring = 'neg_root_mean_squared_error')"
   ]
  },
  {
   "cell_type": "code",
   "execution_count": 268,
   "metadata": {},
   "outputs": [
    {
     "name": "stdout",
     "output_type": "stream",
     "text": [
      "Fitting 5 folds for each of 5 candidates, totalling 25 fits\n"
     ]
    },
    {
     "data": {
      "text/plain": [
       "GridSearchCV(estimator=Ridge(), n_jobs=-1,\n",
       "             param_grid=[{'alpha': [0.001, 0.01, 0.1, 1, 10]}],\n",
       "             scoring='neg_root_mean_squared_error', verbose=2)"
      ]
     },
     "execution_count": 268,
     "metadata": {},
     "output_type": "execute_result"
    }
   ],
   "source": [
    "#Full dataset with ridge - will self select features\n",
    "ridge_grid_search.fit(X, y)"
   ]
  },
  {
   "cell_type": "code",
   "execution_count": 269,
   "metadata": {},
   "outputs": [],
   "source": [
    "ridge_results = pd.DataFrame(ridge_grid_search.cv_results_)\n",
    "\n",
    "#replace -mse with +mse\n",
    "ridge_results[['split0_test_score', 'split1_test_score', 'split2_test_score',\n",
    "       'split3_test_score', 'split4_test_score', 'mean_test_score']] =\\\n",
    "ridge_results[['split0_test_score', 'split1_test_score', 'split2_test_score',\n",
    "       'split3_test_score', 'split4_test_score', 'mean_test_score']] * -1.0\n",
    "\n",
    "#add label to pull merge data later\n",
    "ridge_results['Model Type'] = 'Ridge Regression'\n",
    "ridge_results['Training Data'] = 'Full Dataset'"
   ]
  },
  {
   "cell_type": "code",
   "execution_count": 270,
   "metadata": {},
   "outputs": [],
   "source": [
    "#write to csv to save results\n",
    "ridge_results.to_csv('results/ridge_results_all_vars.csv', index = False)"
   ]
  },
  {
   "cell_type": "markdown",
   "metadata": {},
   "source": [
    "# Lasso Regression\n",
    "https://scikit-learn.org/stable/modules/generated/sklearn.linear_model.Lasso.html#sklearn.linear_model.Lasso"
   ]
  },
  {
   "cell_type": "code",
   "execution_count": 271,
   "metadata": {},
   "outputs": [],
   "source": [
    "from sklearn.linear_model import Lasso\n",
    "\n",
    "lasso = Lasso()\n",
    "\n",
    "lasso_param_grid = [\n",
    "  {'alpha': [.001, .01, .1, 1, 10]}\n",
    "]\n",
    "\n",
    "lasso_grid_search = GridSearchCV(lasso, lasso_param_grid, \n",
    "                                verbose = 2, \n",
    "                                n_jobs = -1, \n",
    "                                scoring = 'neg_root_mean_squared_error')"
   ]
  },
  {
   "cell_type": "code",
   "execution_count": 272,
   "metadata": {},
   "outputs": [
    {
     "name": "stdout",
     "output_type": "stream",
     "text": [
      "Fitting 5 folds for each of 5 candidates, totalling 25 fits\n"
     ]
    },
    {
     "name": "stderr",
     "output_type": "stream",
     "text": [
      "C:\\Users\\davek\\Anaconda3\\envs\\DMSL\\lib\\site-packages\\sklearn\\linear_model\\_coordinate_descent.py:647: ConvergenceWarning: Objective did not converge. You might want to increase the number of iterations, check the scale of the features or consider increasing regularisation. Duality gap: 1.391e+05, tolerance: 1.039e+02\n",
      "  model = cd_fast.enet_coordinate_descent(\n"
     ]
    },
    {
     "data": {
      "text/plain": [
       "GridSearchCV(estimator=Lasso(), n_jobs=-1,\n",
       "             param_grid=[{'alpha': [0.001, 0.01, 0.1, 1, 10]}],\n",
       "             scoring='neg_root_mean_squared_error', verbose=2)"
      ]
     },
     "execution_count": 272,
     "metadata": {},
     "output_type": "execute_result"
    }
   ],
   "source": [
    "#Full dataset with lasso - will self select features\n",
    "lasso_grid_search.fit(X, y)"
   ]
  },
  {
   "cell_type": "code",
   "execution_count": 273,
   "metadata": {},
   "outputs": [],
   "source": [
    "lasso_results = pd.DataFrame(lasso_grid_search.cv_results_)\n",
    "\n",
    "#replace -mse with +mse\n",
    "lasso_results[['split0_test_score', 'split1_test_score', 'split2_test_score',\n",
    "       'split3_test_score', 'split4_test_score', 'mean_test_score']] =\\\n",
    "lasso_results[['split0_test_score', 'split1_test_score', 'split2_test_score',\n",
    "       'split3_test_score', 'split4_test_score', 'mean_test_score']] * -1.0\n",
    "\n",
    "#add label to pull merge data later\n",
    "lasso_results['Model Type'] = 'Lasso Regression'\n",
    "lasso_results['Training Data'] = 'Full Dataset'"
   ]
  },
  {
   "cell_type": "code",
   "execution_count": 274,
   "metadata": {},
   "outputs": [],
   "source": [
    "#write to csv to save results\n",
    "lasso_results.to_csv('results/lasso_results_all_vars.csv', index = False)"
   ]
  },
  {
   "cell_type": "markdown",
   "metadata": {},
   "source": [
    "# Elastic Net"
   ]
  },
  {
   "cell_type": "code",
   "execution_count": 275,
   "metadata": {},
   "outputs": [],
   "source": [
    "from sklearn.linear_model import ElasticNet\n",
    "\n",
    "elastic_net = ElasticNet(max_iter = 5000)\n",
    "\n",
    "elastic_net_param_grid = [\n",
    "  {'alpha': [.001, .01, .1, 1, 10], 'l1_ratio': [.1, .3, .5, .7, .9]}\n",
    "]\n",
    "\n",
    "elastic_net_grid_search = GridSearchCV(elastic_net, elastic_net_param_grid, \n",
    "                                verbose = 2, \n",
    "                                n_jobs = -1, \n",
    "                                scoring = 'neg_root_mean_squared_error')"
   ]
  },
  {
   "cell_type": "code",
   "execution_count": 276,
   "metadata": {},
   "outputs": [
    {
     "name": "stdout",
     "output_type": "stream",
     "text": [
      "Fitting 5 folds for each of 25 candidates, totalling 125 fits\n"
     ]
    },
    {
     "name": "stderr",
     "output_type": "stream",
     "text": [
      "C:\\Users\\davek\\Anaconda3\\envs\\DMSL\\lib\\site-packages\\sklearn\\linear_model\\_coordinate_descent.py:647: ConvergenceWarning: Objective did not converge. You might want to increase the number of iterations, check the scale of the features or consider increasing regularisation. Duality gap: 2.534e+04, tolerance: 1.039e+02\n",
      "  model = cd_fast.enet_coordinate_descent(\n"
     ]
    },
    {
     "data": {
      "text/plain": [
       "GridSearchCV(estimator=ElasticNet(max_iter=5000), n_jobs=-1,\n",
       "             param_grid=[{'alpha': [0.001, 0.01, 0.1, 1, 10],\n",
       "                          'l1_ratio': [0.1, 0.3, 0.5, 0.7, 0.9]}],\n",
       "             scoring='neg_root_mean_squared_error', verbose=2)"
      ]
     },
     "execution_count": 276,
     "metadata": {},
     "output_type": "execute_result"
    }
   ],
   "source": [
    "#Full dataset with lasso - will self select features\n",
    "elastic_net_grid_search.fit(X, y)"
   ]
  },
  {
   "cell_type": "code",
   "execution_count": 277,
   "metadata": {},
   "outputs": [],
   "source": [
    "elastic_net_results = pd.DataFrame(elastic_net_grid_search.cv_results_)\n",
    "\n",
    "#replace -mse with +mse\n",
    "elastic_net_results[['split0_test_score', 'split1_test_score', 'split2_test_score',\n",
    "       'split3_test_score', 'split4_test_score', 'mean_test_score']] =\\\n",
    "elastic_net_results[['split0_test_score', 'split1_test_score', 'split2_test_score',\n",
    "       'split3_test_score', 'split4_test_score', 'mean_test_score']] * -1.0\n",
    "\n",
    "#add label to pull merge data later\n",
    "elastic_net_results['Model Type'] = 'Elastic Net Regression'\n",
    "elastic_net_results['Training Data'] = 'Full Dataset'"
   ]
  },
  {
   "cell_type": "code",
   "execution_count": 278,
   "metadata": {},
   "outputs": [],
   "source": [
    "#write to csv to save results\n",
    "elastic_net_results.to_csv('results/elastic_results_all_vars.csv', index = False)"
   ]
  },
  {
   "cell_type": "markdown",
   "metadata": {},
   "source": [
    "# AdaBoost"
   ]
  },
  {
   "cell_type": "code",
   "execution_count": 279,
   "metadata": {},
   "outputs": [],
   "source": [
    "from sklearn.ensemble import AdaBoostRegressor\n",
    "\n",
    "ada_boost = AdaBoostRegressor()\n",
    "\n",
    "ada_boost_param_grid = [\n",
    "  {'n_estimators': [50, 100, 250, 500], 'learning_rate': [.001, .01, .1, 1]}\n",
    "]\n",
    "\n",
    "ada_boost_grid_search = GridSearchCV(ada_boost, ada_boost_param_grid, \n",
    "                                verbose = 2, \n",
    "                                n_jobs = -1, \n",
    "                                scoring = 'neg_root_mean_squared_error')"
   ]
  },
  {
   "cell_type": "code",
   "execution_count": 280,
   "metadata": {},
   "outputs": [
    {
     "name": "stdout",
     "output_type": "stream",
     "text": [
      "Fitting 5 folds for each of 16 candidates, totalling 80 fits\n"
     ]
    },
    {
     "data": {
      "text/plain": [
       "GridSearchCV(estimator=AdaBoostRegressor(), n_jobs=-1,\n",
       "             param_grid=[{'learning_rate': [0.001, 0.01, 0.1, 1],\n",
       "                          'n_estimators': [50, 100, 250, 500]}],\n",
       "             scoring='neg_root_mean_squared_error', verbose=2)"
      ]
     },
     "execution_count": 280,
     "metadata": {},
     "output_type": "execute_result"
    }
   ],
   "source": [
    "#Full dataset with ada - will self select features\n",
    "ada_boost_grid_search.fit(X, y)"
   ]
  },
  {
   "cell_type": "code",
   "execution_count": 281,
   "metadata": {},
   "outputs": [],
   "source": [
    "ada_results = pd.DataFrame(ada_boost_grid_search.cv_results_)\n",
    "\n",
    "#replace -mse with +mse\n",
    "ada_results[['split0_test_score', 'split1_test_score', 'split2_test_score',\n",
    "       'split3_test_score', 'split4_test_score', 'mean_test_score']] =\\\n",
    "ada_results[['split0_test_score', 'split1_test_score', 'split2_test_score',\n",
    "       'split3_test_score', 'split4_test_score', 'mean_test_score']] * -1.0\n",
    "\n",
    "#add label to pull merge data later\n",
    "ada_results['Model Type'] = 'AdaBoost DT Regression'\n",
    "ada_results['Training Data'] = 'Full Dataset'"
   ]
  },
  {
   "cell_type": "code",
   "execution_count": 282,
   "metadata": {},
   "outputs": [],
   "source": [
    "#write to csv to save results\n",
    "ada_results.to_csv('results/ada_results_all_vars.csv', index = False)"
   ]
  }
 ],
 "metadata": {
  "interpreter": {
   "hash": "7db072334cd235532efed8ba6391072d8ff0e81ff473316a8174440cce5fe44b"
  },
  "kernelspec": {
   "display_name": "Python 3.8.12 ('DMSL')",
   "language": "python",
   "name": "python3"
  },
  "language_info": {
   "codemirror_mode": {
    "name": "ipython",
    "version": 3
   },
   "file_extension": ".py",
   "mimetype": "text/x-python",
   "name": "python",
   "nbconvert_exporter": "python",
   "pygments_lexer": "ipython3",
   "version": "3.8.12"
  },
  "orig_nbformat": 4
 },
 "nbformat": 4,
 "nbformat_minor": 2
}
